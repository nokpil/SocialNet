{
 "cells": [
  {
   "cell_type": "code",
   "execution_count": 1,
   "id": "a6c35b62",
   "metadata": {},
   "outputs": [],
   "source": [
    "import numpy as np\n",
    "import networkx as nx\n",
    "\n",
    "#%matplotlib notebook\n",
    "import matplotlib.pyplot as plt\n",
    "from matplotlib import cm\n",
    "from mpl_toolkits.axes_grid1 import make_axes_locatable\n",
    "%config InlineBackend.figure_format = 'retina'\n",
    "\n",
    "import torch\n",
    "import torchvision\n",
    "import torch.nn as nn\n",
    "import torch.optim as optim\n",
    "from torch.optim.lr_scheduler import StepLR\n",
    "import torch.nn.functional as F\n",
    "from torch.autograd import Variable\n",
    "from torch.utils.data.dataset import Dataset\n",
    "from torch.utils.data.dataset import TensorDataset\n",
    "from torch.utils.data import DataLoader # (testset, batch_size=4,shuffle=False, num_workers=4)\n",
    "from torch.optim.lr_scheduler import ReduceLROnPlateau as RLRP\n",
    "from torch.nn.parallel import DistributedDataParallel, DataParallel\n",
    "from torch.nn.init import xavier_normal\n",
    "from torch.nn.parameter import Parameter\n",
    "import torchvision.datasets as datasets\n",
    "import torchvision.transforms as transforms\n",
    "\n",
    "import sys\n",
    "from datetime import datetime\n",
    "from functools import reduce\n",
    "import os\n",
    "import os.path\n",
    "import pandas as pd\n",
    "import pickle\n",
    "import importlib\n",
    "from collections import Counter\n",
    "from copy import deepcopy\n",
    "from collections import OrderedDict\n",
    "\n",
    "import torch_geometric as tg\n",
    "import nkmodel as nk\n",
    "import ppo.core as core\n",
    "from ppo.ppo import PPOBuffer\n",
    "import envs\n",
    "import json\n",
    "from utils.utils import max_mean_clustering_network"
   ]
  },
  {
   "cell_type": "code",
   "execution_count": 2,
   "id": "70ab2ae6",
   "metadata": {},
   "outputs": [],
   "source": [
    "import envs\n",
    "import ppo.core as core\n",
    "from utils.utils import DataGen, AverageMeter\n",
    "from torch.utils.data import DataLoader\n",
    "from torch.utils.data.dataset import TensorDataset\n",
    "import ppo.net as net"
   ]
  },
  {
   "cell_type": "code",
   "execution_count": 92,
   "id": "7f38c3a4",
   "metadata": {},
   "outputs": [],
   "source": [
    "E = 32\n",
    "M = 100\n",
    "N = 15\n",
    "K = 7\n",
    "NN = 3\n",
    "exp = 8\n",
    "trj_len = 200\n",
    "graph_type = 'complete'\n",
    "reward_type = 'indv_raw_full'\n",
    "action_type = 'total'\n",
    "extra_type = 'SI'\n",
    "env_name = 'SL_NK_' + action_type\n",
    "ac_kwargs = {'activation': nn.Tanh()}\n",
    "nx_dict = {'complete': nx.complete_graph, 'ba': nx.barabasi_albert_graph, 'er': nx.erdos_renyi_graph, 'maxmc':max_mean_clustering_network} \n",
    "nx_arg_dict = {'complete': {'n': M}, 'ba': {'n': M, 'm': 19}, 'er': {'n': M, 'p': 0.3}, 'maxmc': {'n': M}}\n",
    "\n",
    "env_kwargs = {\n",
    "        'E': E,\n",
    "        'M': M,\n",
    "        'N': N,\n",
    "        'K': K,\n",
    "        'neighbor_num': NN,\n",
    "        'exp': exp,\n",
    "        'graph': nx_dict[graph_type],\n",
    "        'graph_dict': nx_arg_dict[graph_type],\n",
    "        'reward_type': reward_type,\n",
    "        'action_type': action_type,\n",
    "        'extra_type': extra_type,\n",
    "        'corr_type': 'TT'\n",
    "    }\n",
    "\n",
    "env = envs.__dict__[env_name](**env_kwargs) "
   ]
  },
  {
   "cell_type": "code",
   "execution_count": 93,
   "id": "015cca56",
   "metadata": {},
   "outputs": [],
   "source": [
    "baseline_type = 'FollowBest'\n",
    "exp_name = 'complete_total_FollowBest_SI_N15K7NN3'\n",
    "\n",
    "batch_size = 16\n",
    "batch_num = 2\n",
    "total_size = batch_num * batch_size\n",
    "train_ratio = 0.8\n",
    "\n",
    "generator = DataGen(env, baseline_type, batch_size, batch_num)\n",
    "if not os.path.isfile('./data/supervised/' + exp_name + '_train.pkl'):\n",
    "    generator.run(exp_name, total_size, batch_size, train_ratio)"
   ]
  },
  {
   "cell_type": "code",
   "execution_count": 94,
   "id": "92485393",
   "metadata": {},
   "outputs": [],
   "source": [
    "exp_name = 'complete_total_FollowBest_SI_N15K7NN3'\n",
    "with open('./data/supervised/' + exp_name + '_train.pkl', 'rb') as f:\n",
    "    train_data = pickle.load(f)\n",
    "with open('./data/supervised/' + exp_name + '_test.pkl', 'rb') as f:\n",
    "    test_data = pickle.load(f)"
   ]
  },
  {
   "cell_type": "code",
   "execution_count": 95,
   "id": "cab5a47c",
   "metadata": {},
   "outputs": [],
   "source": [
    "train_data_image = np.concatenate(train_data['Image'], axis=0)\n",
    "train_data_image = train_data_image.reshape(-1, *train_data_image.shape[-2:])\n",
    "train_data_label = np.concatenate(train_data['Label'], axis=0)\n",
    "train_data_label = train_data_label.reshape(-1, *train_data_label.shape[-1:])\n",
    "test_data_image = np.concatenate(test_data['Image'], axis=0)\n",
    "test_data_image = test_data_image.reshape(-1, *test_data_image.shape[-2:])\n",
    "test_data_label = np.concatenate(test_data['Label'], axis=0)\n",
    "test_data_label = test_data_label.reshape(-1, *test_data_label.shape[-1:])\n",
    "\n",
    "train_data = TensorDataset(torch.FloatTensor(train_data_image), torch.FloatTensor(train_data_label))\n",
    "test_data = TensorDataset(torch.FloatTensor(test_data_image), torch.FloatTensor(test_data_label))\n",
    "\n",
    "train_loader = DataLoader(\n",
    "            train_data,\n",
    "            batch_size=batch_size,\n",
    "            shuffle=True,\n",
    "            pin_memory=True,\n",
    "            num_workers=0\n",
    "        )\n",
    "test_loader = DataLoader(\n",
    "            test_data,\n",
    "            batch_size=batch_size,\n",
    "            shuffle=True,\n",
    "            pin_memory=True,\n",
    "            num_workers=0\n",
    "        )"
   ]
  },
  {
   "cell_type": "code",
   "execution_count": 48,
   "id": "4da43902",
   "metadata": {},
   "outputs": [],
   "source": [
    "def str2bool(v):\n",
    "    return bool(strtobool(v))"
   ]
  },
  {
   "cell_type": "code",
   "execution_count": 49,
   "id": "36b1f80d",
   "metadata": {},
   "outputs": [],
   "source": [
    "from distutils.util import strtobool"
   ]
  },
  {
   "cell_type": "code",
   "execution_count": 88,
   "id": "2ef25df0",
   "metadata": {},
   "outputs": [],
   "source": [
    "model = net.__dict__['st']((4, 17), 30, **ac_kwargs)\n",
    "exp_name = 'st_complete_total_FollowBest_SI_N15K7NN3_CE_sptest'\n",
    "checkpoint = torch.load(f'./data/runs/{exp_name}/{exp_name}_s42/pyt_save/model.pth')\n",
    "model.load_state_dict(checkpoint)\n",
    "model = model.cuda()"
   ]
  },
  {
   "cell_type": "code",
   "execution_count": 77,
   "id": "5723c1c6",
   "metadata": {},
   "outputs": [],
   "source": [
    "x = OrderedDict((f'logits_net.{key}', value) for (key, value) in checkpoint.items())"
   ]
  },
  {
   "cell_type": "code",
   "execution_count": 76,
   "id": "8cbea143",
   "metadata": {},
   "outputs": [
    {
     "data": {
      "text/plain": [
       "odict_keys(['enc.0.I', 'enc.0.mab0.fc_q.weight', 'enc.0.mab0.fc_q.bias', 'enc.0.mab0.fc_k.weight', 'enc.0.mab0.fc_k.bias', 'enc.0.mab0.fc_v.weight', 'enc.0.mab0.fc_v.bias', 'enc.0.mab0.fc_o.weight', 'enc.0.mab0.fc_o.bias', 'enc.0.mab1.fc_q.weight', 'enc.0.mab1.fc_q.bias', 'enc.0.mab1.fc_k.weight', 'enc.0.mab1.fc_k.bias', 'enc.0.mab1.fc_v.weight', 'enc.0.mab1.fc_v.bias', 'enc.0.mab1.fc_o.weight', 'enc.0.mab1.fc_o.bias', 'enc.1.I', 'enc.1.mab0.fc_q.weight', 'enc.1.mab0.fc_q.bias', 'enc.1.mab0.fc_k.weight', 'enc.1.mab0.fc_k.bias', 'enc.1.mab0.fc_v.weight', 'enc.1.mab0.fc_v.bias', 'enc.1.mab0.fc_o.weight', 'enc.1.mab0.fc_o.bias', 'enc.1.mab1.fc_q.weight', 'enc.1.mab1.fc_q.bias', 'enc.1.mab1.fc_k.weight', 'enc.1.mab1.fc_k.bias', 'enc.1.mab1.fc_v.weight', 'enc.1.mab1.fc_v.bias', 'enc.1.mab1.fc_o.weight', 'enc.1.mab1.fc_o.bias', 'dec.0.S', 'dec.0.mab.fc_q.weight', 'dec.0.mab.fc_q.bias', 'dec.0.mab.fc_k.weight', 'dec.0.mab.fc_k.bias', 'dec.0.mab.fc_v.weight', 'dec.0.mab.fc_v.bias', 'dec.0.mab.fc_o.weight', 'dec.0.mab.fc_o.bias', 'dec.1.mab.fc_q.weight', 'dec.1.mab.fc_q.bias', 'dec.1.mab.fc_k.weight', 'dec.1.mab.fc_k.bias', 'dec.1.mab.fc_v.weight', 'dec.1.mab.fc_v.bias', 'dec.1.mab.fc_o.weight', 'dec.1.mab.fc_o.bias', 'dec.2.mab.fc_q.weight', 'dec.2.mab.fc_q.bias', 'dec.2.mab.fc_k.weight', 'dec.2.mab.fc_k.bias', 'dec.2.mab.fc_v.weight', 'dec.2.mab.fc_v.bias', 'dec.2.mab.fc_o.weight', 'dec.2.mab.fc_o.bias', 'dec.3.weight', 'dec.3.bias'])"
      ]
     },
     "execution_count": 76,
     "metadata": {},
     "output_type": "execute_result"
    }
   ],
   "source": [
    "checkpoint.keys()"
   ]
  },
  {
   "cell_type": "code",
   "execution_count": 73,
   "id": "f892dba5",
   "metadata": {},
   "outputs": [],
   "source": [
    "class test():\n",
    "    def __init__(self, a, b=0, **kwargs):\n",
    "        self.a = a\n",
    "        self.b = b\n",
    "    def show(self):\n",
    "        print(self.a, self.b)"
   ]
  },
  {
   "cell_type": "code",
   "execution_count": 74,
   "id": "df776bd2",
   "metadata": {},
   "outputs": [
    {
     "name": "stdout",
     "output_type": "stream",
     "text": [
      "5 10\n"
     ]
    }
   ],
   "source": [
    "kwargs = {'b': 10}\n",
    "y = test(5, **kwargs)\n",
    "y.show()"
   ]
  },
  {
   "cell_type": "code",
   "execution_count": 96,
   "id": "ecc7529a",
   "metadata": {},
   "outputs": [],
   "source": [
    "for image, label in test_loader:\n",
    "    break"
   ]
  },
  {
   "cell_type": "code",
   "execution_count": 97,
   "id": "02ca9ae7",
   "metadata": {},
   "outputs": [
    {
     "name": "stdout",
     "output_type": "stream",
     "text": [
      "tensor([[0, 0, 1, 0, 1, 1, 1, 1, 0, 1, 1, 0, 0, 0, 1, 1, 1],\n",
      "        [0, 0, 0, 0, 1, 1, 0, 0, 1, 1, 1, 1, 0, 1, 0, 7, 0],\n",
      "        [1, 0, 1, 0, 1, 1, 1, 1, 0, 1, 1, 0, 0, 1, 0, 5, 0],\n",
      "        [1, 0, 1, 0, 1, 1, 0, 0, 1, 0, 0, 0, 1, 1, 0, 1, 0]])\n",
      "tensor([0, 0, 0, 0, 1, 1, 0, 0, 1, 1, 1, 1, 0, 1, 0])\n",
      "tensor([0, 0, 0, 0, 1, 1, 0, 0, 1, 1, 1, 1, 0, 1, 0], device='cuda:0')\n"
     ]
    }
   ],
   "source": [
    "i=5\n",
    "print(image[i].long())\n",
    "print(label[i].long())\n",
    "pred = model(image.cuda()).reshape(-1, 2, 15)\n",
    "print((pred[i][1]>0).long())"
   ]
  },
  {
   "cell_type": "code",
   "execution_count": 99,
   "id": "7f6a7a24",
   "metadata": {},
   "outputs": [
    {
     "name": "stdout",
     "output_type": "stream",
     "text": [
      "tensor([[1, 0, 1, 1, 0, 1, 1, 0, 1, 0, 1, 1, 0, 0, 1, 0, 1],\n",
      "        [1, 0, 0, 1, 0, 0, 1, 1, 0, 1, 1, 0, 1, 0, 0, 7, 0],\n",
      "        [0, 1, 0, 0, 1, 1, 1, 0, 0, 0, 0, 0, 0, 1, 1, 0, 0],\n",
      "        [0, 0, 0, 1, 0, 1, 0, 0, 0, 1, 0, 0, 0, 1, 0, 3, 0]])\n",
      "tensor([1, 0, 0, 1, 0, 0, 1, 1, 0, 1, 1, 0, 1, 0, 0])\n",
      "tensor([1, 0, 0, 1, 0, 0, 1, 1, 0, 1, 1, 0, 1, 0, 0], device='cuda:0')\n"
     ]
    }
   ],
   "source": [
    "i=7\n",
    "print(image[i].long())\n",
    "print(label[i].long())\n",
    "pred = model(image.cuda()).reshape(-1, 2, 15)\n",
    "print((pred[i][1]>0).long())"
   ]
  },
  {
   "cell_type": "code",
   "execution_count": 139,
   "id": "07423f1b",
   "metadata": {
    "scrolled": true
   },
   "outputs": [
    {
     "name": "stdout",
     "output_type": "stream",
     "text": [
      "tensor([0, 0, 0, 0, 0, 0, 0, 0, 1, 1, 1, 0, 0, 0, 0], device='cuda:0')\n"
     ]
    }
   ],
   "source": [
    "s1, s2, s3, s4 = 20, 30, 40, 20\n",
    "template = np.array([[1, 1, 1, 0, 0, 0, 0, 0, 0, 0, 0, 0, 0, 0, 0, s1, 1], \n",
    "              [0, 0, 0, 0, 1, 1, 1, 0, 0, 0, 0, 0, 0, 0, 0, s2, 0],\n",
    "                [0, 0, 0, 0, 0, 0, 0, 0, 1, 1, 1, 0, 0, 0, 0, s3, 0],\n",
    "              [0, 0, 0, 0, 0, 0, 0, 0, 0, 0, 0, 0, 1, 1, 1, s4, 0]])\n",
    "pred = model(torch.as_tensor(template, dtype=torch.float32, device='cuda').unsqueeze(0)).reshape(-1, 2, 15)\n",
    "print((pred[0][1]>0).long())"
   ]
  },
  {
   "cell_type": "code",
   "execution_count": null,
   "id": "dd076f0f",
   "metadata": {},
   "outputs": [],
   "source": [
    "d = len(train_data.tensors[0])\n",
    "for i in range(d):\n",
    "    image = train_data.tensors[0][i][0][:-len(extra_type)]\n",
    "    score = \n",
    "    print(score)\n",
    "        \n",
    "print(c, d, c/d)"
   ]
  },
  {
   "cell_type": "code",
   "execution_count": 14,
   "id": "47d6b9c2",
   "metadata": {},
   "outputs": [
    {
     "name": "stdout",
     "output_type": "stream",
     "text": [
      "1696 8200 0.20682926829268292\n"
     ]
    }
   ],
   "source": [
    "c = 0\n",
    "d = len(train_data.tensors[0])\n",
    "for i in range(d):\n",
    "    image = train_data.tensors[0][i][0][:-len(extra_type)]\n",
    "    label = train_data.tensors[1][i]\n",
    "    if not torch.equal(image, label):\n",
    "        c+=1\n",
    "        \n",
    "print(c, d, c/d)"
   ]
  },
  {
   "cell_type": "code",
   "execution_count": 153,
   "id": "b4bd9caa",
   "metadata": {},
   "outputs": [],
   "source": [
    "def test(model, test_loader, loss, criterion):\n",
    "    test_losses = AverageMeter(\"TestLoss\", \":.4e\")\n",
    "    for image, label in test_loader:\n",
    "        label = label.cuda()\n",
    "        image = image.cuda()\n",
    "        pred = model(image)\n",
    "        test_loss = loss(pred, label, criterion)\n",
    "        test_losses.update(test_loss.item(), image.shape[0])\n",
    "    return test_losses.avg\n",
    "\n",
    "def CE(pred, label, criterion):\n",
    "    pred = pred.view(pred.shape[0], -1, 2)\n",
    "    return criterion(pred.transpose(-2, -1), label.long())"
   ]
  },
  {
   "cell_type": "code",
   "execution_count": 154,
   "id": "4add9383",
   "metadata": {},
   "outputs": [],
   "source": [
    "loss = CE\n",
    "criterion = nn.CrossEntropyLoss()\n",
    "    \n",
    "x = test(model, test_loader, loss, criterion)"
   ]
  },
  {
   "cell_type": "code",
   "execution_count": null,
   "id": "806c7d4c",
   "metadata": {},
   "outputs": [],
   "source": []
  }
 ],
 "metadata": {
  "kernelspec": {
   "display_name": "Python 3.7.2 64-bit ('ml_env': conda)",
   "language": "python",
   "name": "python37264bitmlenvconda8ad7197524cc41d09f1a49c22ce337f7"
  },
  "language_info": {
   "codemirror_mode": {
    "name": "ipython",
    "version": 3
   },
   "file_extension": ".py",
   "mimetype": "text/x-python",
   "name": "python",
   "nbconvert_exporter": "python",
   "pygments_lexer": "ipython3",
   "version": "3.7.10"
  }
 },
 "nbformat": 4,
 "nbformat_minor": 5
}

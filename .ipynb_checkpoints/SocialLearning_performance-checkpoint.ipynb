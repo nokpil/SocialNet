{
 "cells": [
  {
   "cell_type": "code",
   "execution_count": 1,
   "id": "5ad368c6",
   "metadata": {},
   "outputs": [],
   "source": [
    "import numpy as np\n",
    "import networkx as nx\n",
    "\n",
    "#%matplotlib notebook\n",
    "import matplotlib.pyplot as plt\n",
    "from matplotlib import cm\n",
    "from mpl_toolkits.axes_grid1 import make_axes_locatable\n",
    "%config InlineBackend.figure_format = 'retina'\n",
    "\n",
    "import torch\n",
    "import torchvision\n",
    "import torch.nn as nn\n",
    "import torch.optim as optim\n",
    "from torch.optim.lr_scheduler import StepLR\n",
    "import torch.nn.functional as F\n",
    "from torch.autograd import Variable\n",
    "from torch.utils.data.dataset import Dataset\n",
    "from torch.utils.data.dataset import TensorDataset\n",
    "from torch.utils.data import DataLoader # (testset, batch_size=4,shuffle=False, num_workers=4)\n",
    "from torch.optim.lr_scheduler import ReduceLROnPlateau as RLRP\n",
    "from torch.nn.parallel import DistributedDataParallel, DataParallel\n",
    "from torch.nn.init import xavier_normal\n",
    "from torch.nn.parameter import Parameter\n",
    "import torchvision.datasets as datasets\n",
    "import torchvision.transforms as transforms\n",
    "\n",
    "import sys\n",
    "from datetime import datetime\n",
    "from functools import reduce\n",
    "import os\n",
    "import os.path\n",
    "import pandas as pd\n",
    "import pickle\n",
    "import importlib\n",
    "from collections import Counter\n",
    "from copy import deepcopy\n",
    "from collections import OrderedDict\n",
    "\n",
    "import torch_geometric as tg\n",
    "import nkmodel as nk\n",
    "import ppo.core as core\n",
    "from ppo.ppo import PPOBuffer\n",
    "from utils.utils import max_mean_clustering_network\n",
    "import envs\n",
    "import json\n",
    "from itertools import product\n",
    "from functools import reduce  \n",
    "\n",
    "from ipywidgets import interact, interactive, fixed, interact_manual\n",
    "import ipywidgets as widgets\n",
    "import matplotlib.gridspec as gridspec"
   ]
  },
  {
   "cell_type": "code",
   "execution_count": 2,
   "id": "a5272c58",
   "metadata": {},
   "outputs": [],
   "source": [
    "E = 32\n",
    "M = 100\n",
    "N = 15\n",
    "K = 12\n",
    "NN = 3\n",
    "exp = 8\n",
    "trj_len = 200\n",
    "graph_type = 'complete'\n",
    "reward_type = 'indv_raw_full'\n",
    "action_type = 'total'\n",
    "extra_type = 'SI'\n",
    "env_name = 'SL_NK_' + action_type\n",
    "\n",
    "nx_dict = {'complete': nx.complete_graph, 'ba': nx.barabasi_albert_graph, 'er': nx.erdos_renyi_graph, 'maxmc':max_mean_clustering_network} \n",
    "nx_arg_dict = {'complete': {'n': M}, 'ba': {'n': M, 'm': 19}, 'er': {'n': M, 'p': 0.3}, 'maxmc': {'n': M}}\n",
    "\n",
    "env_kwargs = {\n",
    "        'E': E,\n",
    "        'M': M,\n",
    "        'N': N,\n",
    "        'K': K,\n",
    "        'neighbor_num': NN,\n",
    "        'exp': exp,\n",
    "        'graph': nx_dict[graph_type],\n",
    "        'graph_dict': nx_arg_dict[graph_type],\n",
    "        'reward_type': reward_type,\n",
    "        'action_type': action_type,\n",
    "        'extra_type': extra_type,\n",
    "    'corr_type': 'TT'\n",
    "    }"
   ]
  },
  {
   "cell_type": "code",
   "execution_count": 3,
   "id": "f921dff5",
   "metadata": {},
   "outputs": [],
   "source": [
    "baseline_data_dict = {}\n",
    "baseline_data_dict['keys'] = ['Ret', 'FinalScore']"
   ]
  },
  {
   "cell_type": "code",
   "execution_count": 4,
   "id": "1c7ee0df",
   "metadata": {},
   "outputs": [
    {
     "name": "stdout",
     "output_type": "stream",
     "text": [
      "0\n",
      "Baseline construction initiated\n"
     ]
    }
   ],
   "source": [
    "env_num = 1\n",
    "test_ensemble_num = 1000\n",
    "env_list = [envs.__dict__[env_name](**env_kwargs) for i in range(env_num)]\n",
    "state_list = []\n",
    "for i in range(env_num):\n",
    "    print(i)\n",
    "    _, fixed_state = env_list[i].reset(E=test_ensemble_num, base=True)\n",
    "    state_list.append(deepcopy(fixed_state))\n",
    "print(\"Baseline construction initiated\")"
   ]
  },
  {
   "cell_type": "code",
   "execution_count": 5,
   "id": "e8e8e415",
   "metadata": {},
   "outputs": [
    {
     "name": "stdout",
     "output_type": "stream",
     "text": [
      "Baseline : FollowBest\n",
      "0\n",
      "Baseline finished\n",
      "FollowBest, 0.3313323487751842, 0.3336521077764848\n",
      "Baseline : FollowBest_indv\n",
      "0\n",
      "Baseline finished\n",
      "FollowBest_indv, 0.42215135642531204, 0.4264766766941968\n",
      "Baseline : FollowBest_random\n",
      "0\n",
      "Baseline finished\n",
      "FollowBest_random, 0.7635350218441397, 0.8885771011460956\n",
      "Baseline : FollowBest_steepest\n",
      "0\n"
     ]
    },
    {
     "ename": "KeyboardInterrupt",
     "evalue": "",
     "output_type": "error",
     "traceback": [
      "\u001b[1;31m---------------------------------------------------------------------------\u001b[0m",
      "\u001b[1;31mKeyboardInterrupt\u001b[0m                         Traceback (most recent call last)",
      "\u001b[1;32m<ipython-input-5-6eb3d7208c6b>\u001b[0m in \u001b[0;36m<module>\u001b[1;34m\u001b[0m\n\u001b[0;32m     22\u001b[0m         \u001b[0mep_ret\u001b[0m\u001b[1;33m,\u001b[0m \u001b[0mep_len\u001b[0m \u001b[1;33m=\u001b[0m \u001b[1;36m0\u001b[0m\u001b[1;33m,\u001b[0m \u001b[1;36m0\u001b[0m\u001b[1;33m\u001b[0m\u001b[1;33m\u001b[0m\u001b[0m\n\u001b[0;32m     23\u001b[0m         \u001b[1;32mfor\u001b[0m \u001b[0mt\u001b[0m \u001b[1;32min\u001b[0m \u001b[0mrange\u001b[0m\u001b[1;33m(\u001b[0m\u001b[0mtrj_len\u001b[0m\u001b[1;33m)\u001b[0m\u001b[1;33m:\u001b[0m\u001b[1;33m\u001b[0m\u001b[1;33m\u001b[0m\u001b[0m\n\u001b[1;32m---> 24\u001b[1;33m             \u001b[0ma\u001b[0m \u001b[1;33m=\u001b[0m \u001b[0mac_base\u001b[0m\u001b[1;33m.\u001b[0m\u001b[0mstep\u001b[0m\u001b[1;33m(\u001b[0m\u001b[0mo\u001b[0m\u001b[1;33m)\u001b[0m\u001b[1;33m\u001b[0m\u001b[1;33m\u001b[0m\u001b[0m\n\u001b[0m\u001b[0;32m     25\u001b[0m             \u001b[0mnext_o\u001b[0m\u001b[1;33m,\u001b[0m \u001b[0mr\u001b[0m\u001b[1;33m,\u001b[0m \u001b[0ms\u001b[0m \u001b[1;33m=\u001b[0m \u001b[0menv_base\u001b[0m\u001b[1;33m.\u001b[0m\u001b[0mstep\u001b[0m\u001b[1;33m(\u001b[0m\u001b[0ma\u001b[0m\u001b[1;33m)\u001b[0m\u001b[1;33m\u001b[0m\u001b[1;33m\u001b[0m\u001b[0m\n\u001b[0;32m     26\u001b[0m             \u001b[0mep_ret\u001b[0m \u001b[1;33m+=\u001b[0m \u001b[0mr\u001b[0m\u001b[1;33m\u001b[0m\u001b[1;33m\u001b[0m\u001b[0m\n",
      "\u001b[1;32mD:\\OneDrive\\연구\\ML\\MyProject\\SocialNet\\SocialNet\\ppo\\core.py\u001b[0m in \u001b[0;36mstep\u001b[1;34m(self, obs)\u001b[0m\n\u001b[0;32m    302\u001b[0m             \u001b[0mnp\u001b[0m\u001b[1;33m.\u001b[0m\u001b[0mput_along_axis\u001b[0m\u001b[1;33m(\u001b[0m\u001b[0mindex_indv\u001b[0m\u001b[1;33m,\u001b[0m \u001b[0mnp\u001b[0m\u001b[1;33m.\u001b[0m\u001b[0mtile\u001b[0m\u001b[1;33m(\u001b[0m\u001b[0mnp\u001b[0m\u001b[1;33m.\u001b[0m\u001b[0marange\u001b[0m\u001b[1;33m(\u001b[0m\u001b[0mN\u001b[0m\u001b[1;33m)\u001b[0m\u001b[1;33m[\u001b[0m\u001b[0mnp\u001b[0m\u001b[1;33m.\u001b[0m\u001b[0mnewaxis\u001b[0m\u001b[1;33m,\u001b[0m \u001b[0mnp\u001b[0m\u001b[1;33m.\u001b[0m\u001b[0mnewaxis\u001b[0m\u001b[1;33m,\u001b[0m \u001b[1;33m:\u001b[0m\u001b[1;33m,\u001b[0m \u001b[0mnp\u001b[0m\u001b[1;33m.\u001b[0m\u001b[0mnewaxis\u001b[0m\u001b[1;33m]\u001b[0m\u001b[1;33m,\u001b[0m \u001b[1;33m(\u001b[0m\u001b[0mE\u001b[0m\u001b[1;33m,\u001b[0m \u001b[0mM\u001b[0m\u001b[1;33m,\u001b[0m \u001b[1;36m1\u001b[0m\u001b[1;33m,\u001b[0m \u001b[1;36m1\u001b[0m\u001b[1;33m)\u001b[0m\u001b[1;33m)\u001b[0m\u001b[1;33m,\u001b[0m \u001b[1;36m1\u001b[0m\u001b[1;33m,\u001b[0m \u001b[0maxis\u001b[0m\u001b[1;33m=\u001b[0m\u001b[1;33m-\u001b[0m\u001b[1;36m1\u001b[0m\u001b[1;33m)\u001b[0m\u001b[1;33m\u001b[0m\u001b[1;33m\u001b[0m\u001b[0m\n\u001b[0;32m    303\u001b[0m             \u001b[0mstates_indv_candidate\u001b[0m \u001b[1;33m=\u001b[0m \u001b[1;33m(\u001b[0m\u001b[0mstates_indv_candidate\u001b[0m \u001b[1;33m+\u001b[0m \u001b[0mindex_indv\u001b[0m\u001b[1;33m)\u001b[0m \u001b[1;33m%\u001b[0m \u001b[1;36m2\u001b[0m\u001b[1;33m\u001b[0m\u001b[1;33m\u001b[0m\u001b[0m\n\u001b[1;32m--> 304\u001b[1;33m             \u001b[0mscores_indv_candidate\u001b[0m \u001b[1;33m=\u001b[0m \u001b[0mself\u001b[0m\u001b[1;33m.\u001b[0m\u001b[0menv\u001b[0m\u001b[1;33m.\u001b[0m\u001b[0mget_score\u001b[0m\u001b[1;33m(\u001b[0m\u001b[0mstates\u001b[0m\u001b[1;33m=\u001b[0m\u001b[0mstates_indv_candidate\u001b[0m\u001b[1;33m.\u001b[0m\u001b[0mreshape\u001b[0m\u001b[1;33m(\u001b[0m\u001b[1;33m-\u001b[0m\u001b[1;36m1\u001b[0m\u001b[1;33m,\u001b[0m \u001b[0mN\u001b[0m\u001b[1;33m,\u001b[0m \u001b[0mN\u001b[0m\u001b[1;33m)\u001b[0m\u001b[1;33m)\u001b[0m\u001b[1;33m.\u001b[0m\u001b[0mreshape\u001b[0m\u001b[1;33m(\u001b[0m\u001b[0mE\u001b[0m\u001b[1;33m,\u001b[0m \u001b[0mM\u001b[0m\u001b[1;33m,\u001b[0m \u001b[0mN\u001b[0m\u001b[1;33m,\u001b[0m \u001b[1;36m1\u001b[0m\u001b[1;33m)\u001b[0m\u001b[1;33m\u001b[0m\u001b[1;33m\u001b[0m\u001b[0m\n\u001b[0m\u001b[0;32m    305\u001b[0m             \u001b[0mscores_indv\u001b[0m \u001b[1;33m=\u001b[0m \u001b[0mnp\u001b[0m\u001b[1;33m.\u001b[0m\u001b[0mmax\u001b[0m\u001b[1;33m(\u001b[0m\u001b[0mscores_indv_candidate\u001b[0m\u001b[1;33m,\u001b[0m \u001b[0maxis\u001b[0m\u001b[1;33m=\u001b[0m\u001b[1;33m-\u001b[0m\u001b[1;36m2\u001b[0m\u001b[1;33m)\u001b[0m\u001b[1;33m\u001b[0m\u001b[1;33m\u001b[0m\u001b[0m\n\u001b[0;32m    306\u001b[0m             \u001b[0mindex_indv\u001b[0m \u001b[1;33m=\u001b[0m \u001b[0mnp\u001b[0m\u001b[1;33m.\u001b[0m\u001b[0mzeros_like\u001b[0m\u001b[1;33m(\u001b[0m\u001b[0mstates\u001b[0m\u001b[1;33m)\u001b[0m\u001b[1;33m\u001b[0m\u001b[1;33m\u001b[0m\u001b[0m\n",
      "\u001b[1;32mD:\\OneDrive\\연구\\ML\\MyProject\\SocialNet\\SocialNet\\envs\\nk_env.py\u001b[0m in \u001b[0;36mget_score\u001b[1;34m(self, states)\u001b[0m\n\u001b[0;32m     61\u001b[0m         \u001b[1;32mfor\u001b[0m \u001b[0mi\u001b[0m \u001b[1;32min\u001b[0m \u001b[0mrange\u001b[0m\u001b[1;33m(\u001b[0m\u001b[0mshape\u001b[0m\u001b[1;33m[\u001b[0m\u001b[1;36m0\u001b[0m\u001b[1;33m]\u001b[0m\u001b[1;33m)\u001b[0m\u001b[1;33m:\u001b[0m\u001b[1;33m\u001b[0m\u001b[1;33m\u001b[0m\u001b[0m\n\u001b[0;32m     62\u001b[0m             \u001b[1;32mfor\u001b[0m \u001b[0mj\u001b[0m \u001b[1;32min\u001b[0m \u001b[0mrange\u001b[0m\u001b[1;33m(\u001b[0m\u001b[0mshape\u001b[0m\u001b[1;33m[\u001b[0m\u001b[1;36m1\u001b[0m\u001b[1;33m]\u001b[0m\u001b[1;33m)\u001b[0m\u001b[1;33m:\u001b[0m\u001b[1;33m\u001b[0m\u001b[1;33m\u001b[0m\u001b[0m\n\u001b[1;32m---> 63\u001b[1;33m                 \u001b[0mscores\u001b[0m\u001b[1;33m[\u001b[0m\u001b[0mi\u001b[0m\u001b[1;33m]\u001b[0m\u001b[1;33m[\u001b[0m\u001b[0mj\u001b[0m\u001b[1;33m]\u001b[0m\u001b[1;33m[\u001b[0m\u001b[1;36m0\u001b[0m\u001b[1;33m]\u001b[0m \u001b[1;33m=\u001b[0m \u001b[0mself\u001b[0m\u001b[1;33m.\u001b[0m\u001b[0mlandscape\u001b[0m\u001b[1;33m.\u001b[0m\u001b[0mget_value\u001b[0m\u001b[1;33m(\u001b[0m\u001b[0mstates\u001b[0m\u001b[1;33m[\u001b[0m\u001b[0mi\u001b[0m\u001b[1;33m]\u001b[0m\u001b[1;33m[\u001b[0m\u001b[0mj\u001b[0m\u001b[1;33m]\u001b[0m\u001b[1;33m)\u001b[0m \u001b[1;33m/\u001b[0m \u001b[0mself\u001b[0m\u001b[1;33m.\u001b[0m\u001b[0mscore_max\u001b[0m\u001b[1;33m\u001b[0m\u001b[1;33m\u001b[0m\u001b[0m\n\u001b[0m\u001b[0;32m     64\u001b[0m         \u001b[1;32mif\u001b[0m \u001b[0mself\u001b[0m\u001b[1;33m.\u001b[0m\u001b[0mrescale\u001b[0m\u001b[1;33m:\u001b[0m\u001b[1;33m\u001b[0m\u001b[1;33m\u001b[0m\u001b[0m\n\u001b[0;32m     65\u001b[0m             \u001b[1;32mreturn\u001b[0m \u001b[0mscores\u001b[0m \u001b[1;33m*\u001b[0m \u001b[0mself\u001b[0m\u001b[1;33m.\u001b[0m\u001b[0mreward_constant\u001b[0m\u001b[1;33m\u001b[0m\u001b[1;33m\u001b[0m\u001b[0m\n",
      "\u001b[1;32m~\\Anaconda3\\envs\\ml_env\\lib\\site-packages\\nkmodel\\nk.py\u001b[0m in \u001b[0;36mget_value\u001b[1;34m(self, state)\u001b[0m\n\u001b[0;32m     38\u001b[0m             \u001b[0mlabel\u001b[0m \u001b[1;33m=\u001b[0m \u001b[0mtuple\u001b[0m\u001b[1;33m(\u001b[0m\u001b[1;33m[\u001b[0m\u001b[0mstate\u001b[0m\u001b[1;33m[\u001b[0m\u001b[0mi\u001b[0m\u001b[1;33m]\u001b[0m \u001b[1;32mfor\u001b[0m \u001b[0mi\u001b[0m \u001b[1;32min\u001b[0m \u001b[0mself\u001b[0m\u001b[1;33m.\u001b[0m\u001b[0mdependence\u001b[0m\u001b[1;33m[\u001b[0m\u001b[0mn\u001b[0m\u001b[1;33m]\u001b[0m\u001b[1;33m]\u001b[0m\u001b[1;33m)\u001b[0m\u001b[1;33m\u001b[0m\u001b[1;33m\u001b[0m\u001b[0m\n\u001b[0;32m     39\u001b[0m             \u001b[1;32mtry\u001b[0m\u001b[1;33m:\u001b[0m\u001b[1;33m\u001b[0m\u001b[1;33m\u001b[0m\u001b[0m\n\u001b[1;32m---> 40\u001b[1;33m                 \u001b[0mtotal_value\u001b[0m \u001b[1;33m+=\u001b[0m \u001b[0mself\u001b[0m\u001b[1;33m.\u001b[0m\u001b[0mvalues\u001b[0m\u001b[1;33m[\u001b[0m\u001b[0mn\u001b[0m\u001b[1;33m]\u001b[0m\u001b[1;33m[\u001b[0m\u001b[0mlabel\u001b[0m\u001b[1;33m]\u001b[0m\u001b[1;33m\u001b[0m\u001b[1;33m\u001b[0m\u001b[0m\n\u001b[0m\u001b[0;32m     41\u001b[0m             \u001b[1;32mexcept\u001b[0m \u001b[0mKeyError\u001b[0m\u001b[1;33m:\u001b[0m\u001b[1;33m\u001b[0m\u001b[1;33m\u001b[0m\u001b[0m\n\u001b[0;32m     42\u001b[0m                 \u001b[0mv\u001b[0m \u001b[1;33m=\u001b[0m \u001b[0mrandom\u001b[0m\u001b[1;33m.\u001b[0m\u001b[0mrandom\u001b[0m\u001b[1;33m(\u001b[0m\u001b[1;33m)\u001b[0m\u001b[1;33m\u001b[0m\u001b[1;33m\u001b[0m\u001b[0m\n",
      "\u001b[1;31mKeyboardInterrupt\u001b[0m: "
     ]
    }
   ],
   "source": [
    "#baselines = ['FollowBest', 'FollowBest_indv', 'FollowMajor', 'FollowMajor_indv', 'IndvLearning', 'RandomCopy']\n",
    "baselines = ['FollowBest', 'FollowBest_indv', 'FollowBest_random', 'FollowBest_prob',\n",
    "             'FollowMajor', 'FollowMajor_indv', 'FollowMajor_random', 'FollowMajor_prob',\n",
    "            'IndvLearning', 'IndvRandom', 'IndvSteepest', 'IndvProb', 'RandomCopy']\n",
    "\n",
    "for baseline_name in baselines:\n",
    "    print(f\"Baseline : {baseline_name}\")\n",
    "    baseline_data = {}\n",
    "    baseline_data['Ret'] = []\n",
    "    baseline_data['FinalScore'] = []\n",
    "    baseline_data['scr_buf'] = []\n",
    "    baseline_data['unq_buf'] = []\n",
    "    \n",
    "    for i in range(env_num):\n",
    "        print(i)\n",
    "        env_base = env_list[i]\n",
    "        ac_base = core.__dict__[baseline_name](env_base, action_type, extra_type, corr_type='TT')\n",
    "        scr_buf = np.zeros((test_ensemble_num, M, trj_len), dtype=np.float32)\n",
    "        unq_buf = np.zeros((test_ensemble_num, trj_len), dtype=np.float32)\n",
    "        \n",
    "        o, _ = env_base.reset(states=state_list[i], state_only=True, base=True)\n",
    "        ep_ret, ep_len = 0, 0\n",
    "        for t in range(trj_len):\n",
    "            a = ac_base.step(o)\n",
    "            next_o, r, s = env_base.step(a)\n",
    "            ep_ret += r\n",
    "            ep_len += 1\n",
    "            scr_buf[..., t] = s\n",
    "            for e in range(test_ensemble_num):\n",
    "                freq = np.unique(a[e], axis=0)\n",
    "                unq_buf[e][t] = freq.shape[0]\n",
    "            o = next_o\n",
    "\n",
    "        baseline_data['Ret'].append(np.mean(ep_ret / ep_len))\n",
    "        baseline_data['FinalScore'].append(np.mean(s))\n",
    "        baseline_data['scr_buf'].append(scr_buf)\n",
    "        baseline_data['unq_buf'].append(unq_buf)\n",
    "    baseline_data['Ret'] = np.mean(baseline_data['Ret'])\n",
    "    baseline_data['FinalScore'] = np.mean(baseline_data['FinalScore'])\n",
    "    baseline_data['scr_buf'] = np.array(baseline_data['scr_buf'])\n",
    "    baseline_data['unq_buf'] = np.array(baseline_data['unq_buf'])\n",
    "    baseline_data_dict[baseline_name] = baseline_data\n",
    "    print(\"Baseline finished\")\n",
    "    print(f\"{baseline_name}, {baseline_data_dict[baseline_name]['Ret']}, {baseline_data_dict[baseline_name]['FinalScore']}\")\n",
    "with open('baseline_complete_N15K3NN3L200.pkl', 'wb') as f:\n",
    "    pickle.dump(baseline_data_dict, f, pickle.HIGHEST_PROTOCOL)"
   ]
  },
  {
   "cell_type": "code",
   "execution_count": null,
   "id": "cacfd0cd",
   "metadata": {},
   "outputs": [],
   "source": [
    "for baseline_name in baselines:\n",
    "    if baseline_name is not 'keys':\n",
    "        print(f\"{baseline_name}, {baseline_data_dict[baseline_name]['Ret']}, {baseline_data_dict[baseline_name]['FinalScore']}\")"
   ]
  },
  {
   "cell_type": "code",
   "execution_count": null,
   "id": "cf677be1",
   "metadata": {},
   "outputs": [],
   "source": [
    "baseline_data_dict"
   ]
  },
  {
   "cell_type": "code",
   "execution_count": null,
   "id": "4c33f755",
   "metadata": {},
   "outputs": [],
   "source": [
    "# Figure drawing\n",
    "fig = plt.figure(figsize=(4,4), dpi=200)\n",
    "ax = fig.add_subplot(111)\n",
    "color_list = ['limegreen', 'darkgreen','deepskyblue', 'royalblue', 'purple', 'gold']\n",
    "label_dict = {'FollowBest':'BI', 'FollowBest_indv':'BI-I', 'FollowBest_random':'BI-R', 'FollowMajor':'CF', 'FollowMajor_indv':'CF-I', 'FollowMajor_random':'CF-R'}\n",
    "counter=0\n",
    "if baselines:\n",
    "    for baseline_name in baselines:\n",
    "        x = baseline_data_dict[baseline_name]['scr_buf']\n",
    "        avg_pf = np.mean(x, axis=tuple(range(0, len(x.shape) - 1)))\n",
    "        std_pf = np.std(x, axis=tuple(range(0, len(x.shape) - 1)))\n",
    "        ax.plot(np.arange(x.shape[-1]), avg_pf, c=color_list[counter], ls=(0, (3, 2)), label=label_dict[baseline_name])\n",
    "        #ax.fill_between(np.arange(x.shape[-1]), avg_pf-std_pf, avg_pf+std_pf, facecolor=color_list[counter], alpha=0.2)\n",
    "        counter+=1\n",
    "\n",
    "#ax.fill_between(np.arange(x.shape[-1]), avg_pf-std_pf, avg_pf+std_pf, facecolor=color_list[counter], alpha=0.2)\n",
    "ax.set_xlabel('Time')\n",
    "ax.set_ylabel('Average Payoff')\n",
    "ax.legend(fontsize=8, loc=4)\n",
    "#fig_name = 'st_complete_indv_raw_full_total_random_SI_TT_N15K7NN3_disc_g99_I100_L200_RST_TMT'\n",
    "#plt.savefig(f'./result/figure/{fig_name}.png')"
   ]
  },
  {
   "cell_type": "code",
   "execution_count": null,
   "id": "8ba33d48",
   "metadata": {},
   "outputs": [],
   "source": []
  },
  {
   "cell_type": "code",
   "execution_count": null,
   "id": "d1068c94",
   "metadata": {},
   "outputs": [],
   "source": [
    "states_indv_candidate = np.tile(np.expand_dims(states, axis=-2), (1, 1, 15, 1))"
   ]
  },
  {
   "cell_type": "code",
   "execution_count": null,
   "id": "51660650",
   "metadata": {},
   "outputs": [],
   "source": [
    "index_indv = np.zeros_like(states_indv_candidate)"
   ]
  },
  {
   "cell_type": "code",
   "execution_count": null,
   "id": "80006709",
   "metadata": {},
   "outputs": [],
   "source": [
    "index_indv.shape"
   ]
  },
  {
   "cell_type": "code",
   "execution_count": null,
   "id": "2a37b6d3",
   "metadata": {},
   "outputs": [],
   "source": [
    "E = 100\n",
    "M = 100\n",
    "N = 15\n",
    "\n",
    "states = np.random.randint(0, 2, (E, M, N))\n",
    "states_indv_candidate = np.tile(np.expand_dims(states, axis=-2), (1, 1, N, 1))\n",
    "index_indv = np.zeros_like(states_indv_candidate)\n",
    "np.put_along_axis(index_indv, np.tile(np.arange(N)[np.newaxis, np.newaxis, :, np.newaxis], (E, M, 1, 1)), 1, axis=-1)\n",
    "states_indv_candidate = (states_indv_candidate + index_indv) % 2\n",
    "scores_indv = env.get_score(states=states_indv_candidate.reshape(-1, N, N)).reshape(E, M, N, 1)\n",
    "maxscore_indv = np.argmax(scores_indv, axis=-2)"
   ]
  },
  {
   "cell_type": "code",
   "execution_count": null,
   "id": "c3867d1f",
   "metadata": {},
   "outputs": [],
   "source": [
    "index_indv = np.zeros_like(states)\n",
    "np.put_along_axis(index_indv, maxscore_indv, 1, axis=-1)\n",
    "states_indv = (states + index_indv) % 2"
   ]
  },
  {
   "cell_type": "code",
   "execution_count": null,
   "id": "5cfc036e",
   "metadata": {},
   "outputs": [],
   "source": [
    "states_indv_candidate.shape"
   ]
  },
  {
   "cell_type": "code",
   "execution_count": null,
   "id": "cdbd754f",
   "metadata": {},
   "outputs": [],
   "source": [
    "A.shape, B[None,...].shape"
   ]
  },
  {
   "cell_type": "code",
   "execution_count": null,
   "id": "c3630d30",
   "metadata": {},
   "outputs": [],
   "source": []
  },
  {
   "cell_type": "code",
   "execution_count": null,
   "id": "88ffa445",
   "metadata": {},
   "outputs": [],
   "source": [
    "states_indv_candidate.shape"
   ]
  },
  {
   "cell_type": "code",
   "execution_count": null,
   "id": "506fd29d",
   "metadata": {},
   "outputs": [],
   "source": [
    "maxscore_indv.shape"
   ]
  },
  {
   "cell_type": "code",
   "execution_count": null,
   "id": "539cbfff",
   "metadata": {},
   "outputs": [],
   "source": [
    "maxscore_indv.reshape(-1, 1).shape"
   ]
  },
  {
   "cell_type": "code",
   "execution_count": null,
   "id": "989fb43e",
   "metadata": {},
   "outputs": [],
   "source": [
    "states_indv_candidate.reshape(-1, 15, 15).shape"
   ]
  },
  {
   "cell_type": "code",
   "execution_count": null,
   "id": "0e83df20",
   "metadata": {},
   "outputs": [],
   "source": [
    "maxscore_indv.squeeze().shape"
   ]
  },
  {
   "cell_type": "code",
   "execution_count": null,
   "id": "88d8fc85",
   "metadata": {},
   "outputs": [],
   "source": [
    "states_indv_candidate[maxscore_indv.squeeze()].shape"
   ]
  },
  {
   "cell_type": "code",
   "execution_count": null,
   "id": "411bb2b9",
   "metadata": {},
   "outputs": [],
   "source": [
    "states_indv_candidate = (states_indv_candidate + index_indv) % 2"
   ]
  },
  {
   "cell_type": "code",
   "execution_count": null,
   "id": "cd28b1c3",
   "metadata": {},
   "outputs": [],
   "source": [
    "score_indv = env.get_score(states=states_indv_candidate.reshape(-1, N, N)).reshape(E, M, N, 1)"
   ]
  },
  {
   "cell_type": "code",
   "execution_count": null,
   "id": "28eaac44",
   "metadata": {},
   "outputs": [],
   "source": [
    "score_indv.shape"
   ]
  },
  {
   "cell_type": "code",
   "execution_count": null,
   "id": "307ac618",
   "metadata": {
    "scrolled": true
   },
   "outputs": [],
   "source": [
    "score_indv = np.max(score_indv, axis=-2)"
   ]
  },
  {
   "cell_type": "code",
   "execution_count": null,
   "id": "4f285769",
   "metadata": {},
   "outputs": [],
   "source": [
    "score_indv.shape"
   ]
  },
  {
   "cell_type": "code",
   "execution_count": null,
   "id": "91d4527f",
   "metadata": {},
   "outputs": [],
   "source": [
    "np.put_along_axis(index_indv, np.random.randint(0, N, (E, M, 1)), 1, axis=-1)"
   ]
  },
  {
   "cell_type": "code",
   "execution_count": null,
   "id": "29c1aa82",
   "metadata": {},
   "outputs": [],
   "source": [
    "states_indv_candidate"
   ]
  },
  {
   "cell_type": "code",
   "execution_count": null,
   "id": "de71ec99",
   "metadata": {},
   "outputs": [],
   "source": [
    "env.get_score(states_indv_candidate.)"
   ]
  },
  {
   "cell_type": "code",
   "execution_count": null,
   "id": "1f35c9f0",
   "metadata": {},
   "outputs": [],
   "source": []
  }
 ],
 "metadata": {
  "kernelspec": {
   "display_name": "Python 3.7.2 64-bit ('ml_env': conda)",
   "language": "python",
   "name": "python37264bitmlenvconda8ad7197524cc41d09f1a49c22ce337f7"
  },
  "language_info": {
   "codemirror_mode": {
    "name": "ipython",
    "version": 3
   },
   "file_extension": ".py",
   "mimetype": "text/x-python",
   "name": "python",
   "nbconvert_exporter": "python",
   "pygments_lexer": "ipython3",
   "version": "3.7.10"
  }
 },
 "nbformat": 4,
 "nbformat_minor": 5
}

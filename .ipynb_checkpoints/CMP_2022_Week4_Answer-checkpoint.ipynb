{
 "cells": [
  {
   "cell_type": "markdown",
   "metadata": {},
   "source": [
    "# PH413 Computation Physics - Practice [Week 4]"
   ]
  },
  {
   "cell_type": "markdown",
   "metadata": {},
   "source": [
    "## 1. Numerical Methods (1) : Errors, Accuracy, Stability"
   ]
  },
  {
   "cell_type": "markdown",
   "metadata": {},
   "source": [
    "## 1.1 Rounding error"
   ]
  },
  {
   "cell_type": "markdown",
   "metadata": {},
   "source": [
    "* Rounding error is a error comes from finite precision, due to limitation of machine memory.\n",
    "    * It is a hardware error, thus there will be no rounding error if we have infinite percision.\n",
    "* This error can be accumulated into somewhat substantial amount."
   ]
  },
  {
   "cell_type": "code",
   "execution_count": 1,
   "metadata": {},
   "outputs": [
    {
     "name": "stdout",
     "output_type": "stream",
     "text": [
      "True phi = 0.61803398749895\n",
      "Calculated phi = 0.6180339887498949\n",
      "Difference = 1.2509449032194198e-09\n"
     ]
    }
   ],
   "source": [
    "import math as m\n",
    "\n",
    "phi_z1 = 0.61803398749895\n",
    "phi_z2 = 0.5*(m.sqrt(5.0)-1)\n",
    "\n",
    "print('True phi = {}'.format(phi_z1))\n",
    "print('Calculated phi = {}'.format(phi_z2))\n",
    "print('Difference = {}'.format(abs(phi_z1-phi_z2)))"
   ]
  },
  {
   "cell_type": "code",
   "execution_count": 2,
   "metadata": {
    "scrolled": false
   },
   "outputs": [
    {
     "name": "stdout",
     "output_type": "stream",
     "text": [
      "True phi = 0.61803398749895\n",
      " n   \t        phi^(n-2)-phi^(n-1) \t    phi^n \t rel. error\n",
      " n = 2    \t   0.3819660125  \t 0.3819660097 \t 0.0000\n",
      " n = 3    \t   0.2360679750  \t 0.2360679761 \t -0.0000\n",
      " n = 4    \t   0.1458980375  \t 0.1458980326 \t 0.0000\n",
      " n = 5    \t   0.0901699375  \t 0.0901699428 \t -0.0000\n",
      " n = 6    \t   0.0557281000  \t 0.0557280893 \t 0.0000\n",
      " n = 7    \t   0.0344418375  \t 0.0344418533 \t -0.0000\n",
      " n = 8    \t   0.0212862625  \t 0.0212862359 \t 0.0000\n",
      " n = 9    \t   0.0131555750  \t 0.0131556173 \t -0.0000\n",
      " n = 10    \t   0.0081306876  \t 0.0081306186 \t 0.0000\n",
      " n = 11    \t   0.0050248874  \t 0.0050249986 \t -0.0000\n",
      " n = 12    \t   0.0031058002  \t 0.0031056199 \t 0.0001\n",
      " n = 13    \t   0.0019190873  \t 0.0019193787 \t -0.0002\n",
      " n = 14    \t   0.0011867129  \t 0.0011862413 \t 0.0004\n",
      " n = 15    \t   0.0007323744  \t 0.0007331374 \t -0.0010\n",
      " n = 16    \t   0.0004543385  \t 0.0004531038 \t 0.0027\n",
      " n = 17    \t   0.0002780358  \t 0.0002800336 \t -0.0071\n",
      " n = 18    \t   0.0001763027  \t 0.0001730703 \t 0.0187\n",
      " n = 19    \t   0.0001017331  \t 0.0001069633 \t -0.0489\n",
      " n = 20    \t   0.0000745696  \t 0.0000661070 \t 0.1280\n",
      " n = 21    \t   0.0000271635  \t 0.0000408563 \t -0.3351\n",
      " n = 22    \t   0.0000474061  \t 0.0000252506 \t 0.8774\n",
      " n = 23    \t   -0.0000202426  \t 0.0000156057 \t -2.2971\n",
      " n = 24    \t   0.0000676487  \t 0.0000096449 \t 6.0140\n",
      " n = 25    \t   -0.0000878913  \t 0.0000059609 \t -15.7447\n",
      " n = 26    \t   0.0001555400  \t 0.0000036840 \t 41.2202\n",
      " n = 27    \t   -0.0002434312  \t 0.0000022768 \t -107.9160\n",
      " n = 28    \t   0.0003989712  \t 0.0000014072 \t 282.5277\n",
      " n = 29    \t   -0.0006424024  \t 0.0000008697 \t -739.6671\n",
      " n = 30    \t   0.0010413736  \t 0.0000005375 \t 1936.4737\n"
     ]
    }
   ],
   "source": [
    "phi = []\n",
    "phi2 = []\n",
    "phi3 = []\n",
    "phi.append(1)\n",
    "phi.append(phi_z1)\n",
    "print('True phi = {}'.format(phi_z1))\n",
    "print(' n   \\t        phi^(n-2)-phi^(n-1) \\t    phi^n \\t rel. error')\n",
    "a = []\n",
    "for i in range(1,30):\n",
    "    phi.append(phi[i-1]-phi[i])\n",
    "    real_phi = m.pow(phi_z1, i+1)\n",
    "    rel_error = (phi[i+1]-real_phi)/real_phi\n",
    "    a.append(phi[i+1]-real_phi)\n",
    "    print(' n = {0}    \\t   {1:0.10f}  \\t {2:0.10f} \\t {3:0.4f}'.format(i+1, phi[i+1], m.pow(phi_z1, i+1), rel_error))"
   ]
  },
  {
   "cell_type": "markdown",
   "metadata": {},
   "source": [
    "## 1.2 Truncation error"
   ]
  },
  {
   "cell_type": "markdown",
   "metadata": {},
   "source": [
    "* If we apporximate an infinite sum into sum of finite series, there should be an error corresponds to ignored terms. It is called truncation error.\n",
    "    * Truncation error presents even with infinite precision, because software (algorithm) inself inherently possess truncation error.\n",
    "    * We will study more about these infinite sums (such as numerical integration methods) in Numerical methods (2)."
   ]
  },
  {
   "cell_type": "code",
   "execution_count": 4,
   "metadata": {},
   "outputs": [],
   "source": [
    "def exp2y(x):\n",
    "    return m.exp(2*x)\n",
    "\n",
    "def exp2y_analytic(x):\n",
    "    return (m.exp(2*x)-1)/2.0"
   ]
  },
  {
   "cell_type": "markdown",
   "metadata": {},
   "source": [
    "* Try the following (naive) numerical integration with different dt value. \n",
    "* You will observe the trade-off between time and abs. error. "
   ]
  },
  {
   "cell_type": "code",
   "execution_count": 8,
   "metadata": {},
   "outputs": [
    {
     "name": "stdout",
     "output_type": "stream",
     "text": [
      "numerical : 3.191334586258473, analytical : 3.194528049465325, abs. error : 0.0031934632068519875\n",
      "Wall time: 997 µs\n"
     ]
    }
   ],
   "source": [
    "%%time\n",
    "result = 0\n",
    "dt = 0.001\n",
    "N = 1/dt\n",
    "for i in range(int(N)):\n",
    "    result += dt*exp2y(i*dt)\n",
    "print('numerical : {}, analytical : {}, abs. error : {}'.format(result, exp2y_analytic(1.0), abs(result-exp2y_analytic(1.0))))"
   ]
  },
  {
   "cell_type": "markdown",
   "metadata": {},
   "source": [
    "**★★ Task 1★★**\n",
    "\n",
    "* Find your machine-epsilon $\\epsilon_m$.\n",
    "\n",
    "\n",
    "* Write down your method. (if possible, your code. If it's too long, you can capture the screenshot of the code and explain it.)"
   ]
  },
  {
   "cell_type": "markdown",
   "metadata": {},
   "source": [
    "## 1.2. Numerical Differentiation"
   ]
  },
  {
   "cell_type": "markdown",
   "metadata": {},
   "source": [
    "* Mainly, your goal is implement a required function nicely.\n",
    "* But, watch out the stiff equations. It has no fixed definition, since it depends on your numerical method."
   ]
  },
  {
   "cell_type": "markdown",
   "metadata": {},
   "source": [
    "**======================== ★ Task 2 ★ ========================**\n",
    "* Generate a noisy sequence $y(t) = (1-e^{-2t})+U[-0,05, 0.05]$ for t= 0, 0.1, 0.2, ... 10.\n",
    "\n",
    "\n",
    "\n",
    "* Numerically differentiate the sequence in following ways, and compare thosewith analytical result.\n",
    "    * Forward difference\n",
    "    * Central difference\n",
    "    \n",
    "**==========================================================**"
   ]
  },
  {
   "cell_type": "markdown",
   "metadata": {},
   "source": [
    "## 1.3. Numerical Integration"
   ]
  },
  {
   "cell_type": "markdown",
   "metadata": {},
   "source": [
    "**==================== ★★ Assignment1 ★★ ====================**\n",
    "\n",
    "* Generate a sequence $y(x) = {1\\over{1+x^2}}$ for x = 0 ~ 1, with $dt = 0.01$\n",
    "\n",
    "\n",
    "\n",
    "* Compare accumulated errors for following methods\n",
    "    * Rectangular methods\n",
    "    * Trapezoidal rules\n",
    "    * RK4\n",
    "    * Analytic integration\n",
    "    \n",
    "    \n",
    "* From above results, verify the order of each method.\n",
    "    * For other words, plot the accumulated errors by changing step size, and determine the power exponent.\n",
    "    \n",
    "**============================================================**   "
   ]
  },
  {
   "cell_type": "markdown",
   "metadata": {},
   "source": [
    "## END OF WEEK 4! Have a good day :)"
   ]
  }
 ],
 "metadata": {
  "kernelspec": {
   "display_name": "Python 3",
   "language": "python",
   "name": "python3"
  },
  "language_info": {
   "codemirror_mode": {
    "name": "ipython",
    "version": 3
   },
   "file_extension": ".py",
   "mimetype": "text/x-python",
   "name": "python",
   "nbconvert_exporter": "python",
   "pygments_lexer": "ipython3",
   "version": "3.7.10"
  }
 },
 "nbformat": 4,
 "nbformat_minor": 1
}

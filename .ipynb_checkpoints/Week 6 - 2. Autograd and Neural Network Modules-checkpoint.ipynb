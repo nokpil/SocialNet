{
 "cells": [
  {
   "cell_type": "markdown",
   "metadata": {},
   "source": [
    "# PyTorch Tutorial\n",
    "KAIST, October 2018\n",
    "\n",
    "By Dongkyum Kim\n",
    "\n",
    "Useful tutorials of python\n",
    "- https://www.scipy-lectures.org/\n",
    "- https://docs.python.org/ko/3/tutorial/index.html"
   ]
  },
  {
   "cell_type": "code",
   "execution_count": 2,
   "metadata": {},
   "outputs": [],
   "source": [
    "from __future__ import print_function\n",
    "import numpy as np\n",
    "import torch \n",
    "import matplotlib.pyplot as plt"
   ]
  },
  {
   "cell_type": "markdown",
   "metadata": {},
   "source": [
    "## Basic Concepts of Class\n",
    "\n",
    "\n",
    "Python supports object-oriented programming (OOP). The goals of OOP are:\n",
    "- to organize the code, and\n",
    "- to re-use code in similar contexts.  \n",
    "\n",
    "Here is a small example: we create a Student class, which is an object gathering several custom functions (methods) and variables (attributes), we will be able to use:"
   ]
  },
  {
   "cell_type": "code",
   "execution_count": 3,
   "metadata": {},
   "outputs": [],
   "source": [
    "class Student(object):\n",
    "    def __init__(self, name):   # Constructor\n",
    "        # self means the instance itself.\n",
    "        self.name = name        # Attribute\n",
    "    def set_age(self, age):     # Method\n",
    "        self.age = age          \n",
    "    def set_major(self, major): \n",
    "        self.major = major\n",
    "\n",
    "anna = Student('anna')  # Instantiate the class Student\n",
    "anna                    # Instance\n",
    "\n",
    "anna.set_age(21)          # Call mathods\n",
    "Student.set_age(anna, 21) # Equivalent to above line\n",
    "# should take instance argument which is self in set_age method\n",
    "\n",
    "anna.set_major('physics')"
   ]
  },
  {
   "cell_type": "markdown",
   "metadata": {},
   "source": [
    "In the previous example, the `Student` class has `__init__`, `set_age` and `set_major` methods. Its attributes are `name`, `age` and `major`. We can call these methods and attributes with the following notation: `classinstance.method` or `classinstance.attribute`. The `__init__` constructor is a special method we call with: `MyClass(init parameters if any)`.\n",
    "\n",
    "Now, suppose we want to create a new class MasterStudent with the same methods and attributes as the previous one, but with an additional `internship` attribute. We won’t copy the previous class, but **inherit** from it:"
   ]
  },
  {
   "cell_type": "markdown",
   "metadata": {},
   "source": [
    "### Inheritance"
   ]
  },
  {
   "cell_type": "code",
   "execution_count": 4,
   "metadata": {},
   "outputs": [
    {
     "name": "stdout",
     "output_type": "stream",
     "text": [
      "mandatory, from March to June\n",
      "23\n"
     ]
    }
   ],
   "source": [
    "class MasterStudent(Student):\n",
    "    internship = 'mandatory, from March to June'\n",
    "\n",
    "james = MasterStudent('james')\n",
    "print(james.internship)\n",
    "\n",
    "james.set_age(23)\n",
    "print(james.age)"
   ]
  },
  {
   "cell_type": "markdown",
   "metadata": {},
   "source": [
    "The MasterStudent class inherited from the Student attributes and methods.\n",
    "\n",
    "Thanks to classes and object-oriented programming, we can organize code with different classes corresponding to different objects we encounter (an Experiment class, an Image class, a Flow class, etc.), with their own methods and attributes. Then we can use inheritance to consider variations around a base class and **re-use** code. Ex : from a Flow base class, we can create derived StokesFlow, TurbulentFlow, PotentialFlow, etc."
   ]
  },
  {
   "cell_type": "markdown",
   "metadata": {},
   "source": [
    "### Methods & attributes of torch.Tensor's"
   ]
  },
  {
   "cell_type": "code",
   "execution_count": 5,
   "metadata": {},
   "outputs": [
    {
     "name": "stdout",
     "output_type": "stream",
     "text": [
      "<class 'torch.Tensor'>\n",
      "<class 'builtin_function_or_method'>\n",
      "<class 'bool'>\n"
     ]
    }
   ],
   "source": [
    "x = torch.randn(5, 5)\n",
    "print(type(x))               # Instance of class torch.Tensor\n",
    "print(type(x.mean))          # Method of torch.Tensor\n",
    "print(type(x.requires_grad)) # Atrribute of x"
   ]
  },
  {
   "cell_type": "markdown",
   "metadata": {},
   "source": [
    "## PyTorch Autograd, Define-by-run & Execution Paradigm\n",
    "\n",
    "Adapted from\n",
    "1. http://pytorch.org/tutorials/beginner/blitz/autograd_tutorial.html#sphx-glr-beginner-blitz-autograd-tutorial-py \n",
    "2. http://pytorch.org/docs/master/notes/autograd.html\n",
    "\n",
    "Supports almost all operations that can be performed on regular tensors\n",
    "\n",
    "![caption](https://raw.githubusercontent.com/pytorch/pytorch/master/docs/source/_static/img/dynamic_graph.gif)\n",
    "\n",
    "### Three major differences between PyTorch and Numpy\n",
    "1. Autograd : Automatic differentiation\n",
    "2. Neural Network Library\n",
    "3. GPU Support\n",
    "\n",
    "### Properties of tensors : Requiring gradients, Data & Grad\n",
    "\n",
    "1. You can access the raw tensor through the `.data` attribute\n",
    "2. Gradient of the `y` w.r.t. this variable `t` is accumulated into `t.grad`.\n",
    "\n",
    "Example \n",
    "  - $y(t) = (1-e^{-2t})$\n",
    "  - $\\frac{dy(t)}{dt} = 2e^{-2t}$"
   ]
  },
  {
   "cell_type": "code",
   "execution_count": 6,
   "metadata": {},
   "outputs": [
    {
     "name": "stdout",
     "output_type": "stream",
     "text": [
      "tensor(0.8647)\n",
      "tensor(0.2707)\n",
      "tensor(0.2707)\n"
     ]
    }
   ],
   "source": [
    "t = torch.tensor(1.0, requires_grad=True)\n",
    "y = 1 - torch.exp(-2*t)\n",
    "print(y.data)\n",
    "y.backward()\n",
    "print(t.grad)\n",
    "print(2*torch.exp(-2*t.data)) # Same result!"
   ]
  },
  {
   "cell_type": "markdown",
   "metadata": {},
   "source": [
    "## Linear Regression by AutoGrad\n",
    "\n",
    "simple example $y=wx+b$"
   ]
  },
  {
   "cell_type": "code",
   "execution_count": 7,
   "metadata": {},
   "outputs": [],
   "source": [
    "x = torch.linspace(0, 10, steps=50)\n",
    "w = torch.tensor(3.141592)\n",
    "b = torch.tensor(1.3)\n",
    "true_y =  w * x + b\n",
    "\n",
    "model_w = torch.tensor(5.5, requires_grad=True)\n",
    "model_b = torch.tensor(-10.5, requires_grad=True)\n",
    "pred_y = model_w * x + model_b"
   ]
  },
  {
   "cell_type": "code",
   "execution_count": 8,
   "metadata": {},
   "outputs": [
    {
     "data": {
      "text/plain": [
       "<matplotlib.legend.Legend at 0x2b052316948>"
      ]
     },
     "execution_count": 8,
     "metadata": {},
     "output_type": "execute_result"
    },
    {
     "data": {
      "image/png": "[encoded data removed]",
      "text/plain": [
       "<Figure size 432x288 with 1 Axes>"
      ]
     },
     "metadata": {
      "needs_background": "light"
     },
     "output_type": "display_data"
    }
   ],
   "source": [
    "plt.scatter(x.numpy(), true_y.numpy(), label='true')\n",
    "plt.scatter(x.numpy(), pred_y.data.numpy(), label='pred')\n",
    "plt.xlabel('x'); plt.ylabel('y')\n",
    "plt.legend()"
   ]
  },
  {
   "cell_type": "code",
   "execution_count": 9,
   "metadata": {},
   "outputs": [
    {
     "name": "stderr",
     "output_type": "stream",
     "text": [
      "C:\\Users\\User\\Anaconda3\\envs\\ml_env\\lib\\site-packages\\ipykernel_launcher.py:8: UserWarning: This overload of add_ is deprecated:\n",
      "\tadd_(Number alpha, Tensor other)\n",
      "Consider using one of the following signatures instead:\n",
      "\tadd_(Tensor other, *, Number alpha) (Triggered internally at  ..\\torch\\csrc\\utils\\python_arg_parser.cpp:1050.)\n",
      "  \n"
     ]
    },
    {
     "name": "stdout",
     "output_type": "stream",
     "text": [
      "loss 48.242671966552734\n",
      "loss 21.976720809936523\n",
      "loss 13.268476486206055\n",
      "loss 8.010863304138184\n",
      "loss 4.836573123931885\n",
      "loss 2.920088529586792\n",
      "loss 1.7630070447921753\n",
      "loss 1.064417839050293\n",
      "loss 0.6426438689231873\n",
      "loss 0.38799721002578735\n",
      "loss 0.2342539280653\n",
      "loss 0.14143110811710358\n",
      "loss 0.08538918197154999\n",
      "loss 0.0515538789331913\n",
      "loss 0.031125832349061966\n"
     ]
    }
   ],
   "source": [
    "params = [model_w, model_b]\n",
    "losses = []\n",
    "for i in range(1500):\n",
    "    pred_y = model_w * x + model_b\n",
    "    loss = torch.mean((pred_y - true_y)**2)\n",
    "    loss.backward()\n",
    "    for p in params:\n",
    "        p.data.add_(-0.005, p.grad.data)\n",
    "        # p.data = p.data - 0.01 * p.grad.data   # Equivalent Expression\n",
    "        \n",
    "        p.grad.data.zero_()\n",
    "        # p.grad.data = torch.zeros_like(p.grad) # Equivalent Expression\n",
    "    \n",
    "    losses.append(loss.item())\n",
    "    if i % 100 == 0:\n",
    "        print('loss', loss.item())"
   ]
  },
  {
   "cell_type": "code",
   "execution_count": 11,
   "metadata": {},
   "outputs": [
    {
     "data": {
      "text/plain": [
       "[<matplotlib.lines.Line2D at 0x2b058551348>]"
      ]
     },
     "execution_count": 11,
     "metadata": {},
     "output_type": "execute_result"
    },
    {
     "data": {
      "image/png": "[encoded data removed]",
      "text/plain": [
       "<Figure size 432x288 with 1 Axes>"
      ]
     },
     "metadata": {
      "needs_background": "light"
     },
     "output_type": "display_data"
    }
   ],
   "source": [
    "plt.title('Loss over training steps')\n",
    "plt.ylabel('loss')\n",
    "plt.xlabel('steps')\n",
    "plt.plot(losses)"
   ]
  },
  {
   "cell_type": "code",
   "execution_count": 12,
   "metadata": {},
   "outputs": [
    {
     "data": {
      "text/plain": [
       "<matplotlib.legend.Legend at 0x2b05859e8c8>"
      ]
     },
     "execution_count": 12,
     "metadata": {},
     "output_type": "execute_result"
    },
    {
     "data": {
      "image/png": "[encoded data removed]",
      "text/plain": [
       "<Figure size 432x288 with 1 Axes>"
      ]
     },
     "metadata": {
      "needs_background": "light"
     },
     "output_type": "display_data"
    }
   ],
   "source": [
    "pred_y = model_w*x + model_b\n",
    "plt.scatter(x.numpy(), true_y.numpy(), label='true')\n",
    "plt.scatter(x.numpy(), pred_y.data.numpy(), label='pred')\n",
    "plt.xlabel('x'); plt.ylabel('y')\n",
    "plt.legend()"
   ]
  },
  {
   "cell_type": "markdown",
   "metadata": {},
   "source": [
    "## Neural Network Modules"
   ]
  },
  {
   "cell_type": "code",
   "execution_count": 13,
   "metadata": {},
   "outputs": [],
   "source": [
    "import torch.nn as nn\n",
    "import torch.optim as optim"
   ]
  },
  {
   "cell_type": "markdown",
   "metadata": {},
   "source": [
    "### Linear Regression with `nn` & `optim` modules"
   ]
  },
  {
   "cell_type": "code",
   "execution_count": 14,
   "metadata": {},
   "outputs": [],
   "source": [
    "x = torch.linspace(0, 10, steps=50)\n",
    "w = torch.tensor(3.141592)\n",
    "b = torch.tensor(1.3)\n",
    "true_y =  w * x + b"
   ]
  },
  {
   "cell_type": "markdown",
   "metadata": {},
   "source": [
    "- `nn.Linear` : $Wx+b$"
   ]
  },
  {
   "cell_type": "code",
   "execution_count": 15,
   "metadata": {},
   "outputs": [],
   "source": [
    "model = nn.Linear(1, 1, bias=True)\n",
    "pred_y = model(x.view(-1, 1))"
   ]
  },
  {
   "cell_type": "code",
   "execution_count": 16,
   "metadata": {},
   "outputs": [
    {
     "data": {
      "text/plain": [
       "<matplotlib.legend.Legend at 0x2b058664348>"
      ]
     },
     "execution_count": 16,
     "metadata": {},
     "output_type": "execute_result"
    },
    {
     "data": {
      "image/png": "[encoded data removed]",
      "text/plain": [
       "<Figure size 432x288 with 1 Axes>"
      ]
     },
     "metadata": {
      "needs_background": "light"
     },
     "output_type": "display_data"
    }
   ],
   "source": [
    "plt.scatter(x.numpy(), true_y.numpy(), label='true')\n",
    "plt.scatter(x.numpy(), pred_y.view(-1).data.numpy(), label='pred')\n",
    "plt.xlabel('x'); plt.ylabel('y')\n",
    "plt.legend()"
   ]
  },
  {
   "cell_type": "markdown",
   "metadata": {},
   "source": [
    "- `optim.SGD` : Stochatis Gradient Descent"
   ]
  },
  {
   "cell_type": "code",
   "execution_count": 17,
   "metadata": {},
   "outputs": [
    {
     "name": "stdout",
     "output_type": "stream",
     "text": [
      "loss 399.3614196777344\n"
     ]
    }
   ],
   "source": [
    "# params = [model_w, model_b]\n",
    "params = model.parameters()\n",
    "\n",
    "optimizer = optim.SGD(params, lr=0.005)\n",
    "criterion = nn.MSELoss()\n",
    "losses = []\n",
    "\n",
    "for i in range(100):\n",
    "    # pred_y = model_w * x + model_b\n",
    "    pred_y = model(x.view(-1, 1))\n",
    "    \n",
    "    # loss = torch.mean((pred_y - true_y)**2)\n",
    "    loss = criterion(pred_y, true_y.view(-1, 1))\n",
    "    loss.backward()\n",
    "    \n",
    "#     for p in params:\n",
    "#         p.data.add_(-0.005, p.grad.data)\n",
    "#         p.grad.data.zero_()\n",
    "    optimizer.step()\n",
    "    model.zero_grad()\n",
    "\n",
    "    losses.append(loss.item())\n",
    "    if i % 100 == 0:\n",
    "        print('loss', loss.item())"
   ]
  },
  {
   "cell_type": "code",
   "execution_count": 18,
   "metadata": {},
   "outputs": [
    {
     "data": {
      "text/plain": [
       "[<matplotlib.lines.Line2D at 0x2b0586d1cc8>]"
      ]
     },
     "execution_count": 18,
     "metadata": {},
     "output_type": "execute_result"
    },
    {
     "data": {
      "image/png": "[encoded data removed]",
      "text/plain": [
       "<Figure size 432x288 with 1 Axes>"
      ]
     },
     "metadata": {
      "needs_background": "light"
     },
     "output_type": "display_data"
    }
   ],
   "source": [
    "plt.title('Loss over training steps')\n",
    "plt.ylabel('loss')\n",
    "plt.xlabel('steps')\n",
    "plt.plot(losses)"
   ]
  },
  {
   "cell_type": "code",
   "execution_count": 19,
   "metadata": {},
   "outputs": [
    {
     "data": {
      "text/plain": [
       "<matplotlib.legend.Legend at 0x2b05876e548>"
      ]
     },
     "execution_count": 19,
     "metadata": {},
     "output_type": "execute_result"
    },
    {
     "data": {
      "image/png": "[encoded data removed]",
      "text/plain": [
       "<Figure size 432x288 with 1 Axes>"
      ]
     },
     "metadata": {
      "needs_background": "light"
     },
     "output_type": "display_data"
    }
   ],
   "source": [
    "pred_y = model(x.view(-1, 1))\n",
    "plt.scatter(x.numpy(), true_y.numpy(), label='true')\n",
    "plt.scatter(x.numpy(), pred_y.view(-1).data.numpy(), label='pred')\n",
    "plt.xlabel('x'); plt.ylabel('y')\n",
    "plt.legend()"
   ]
  },
  {
   "cell_type": "markdown",
   "metadata": {},
   "source": [
    "### High order regression"
   ]
  },
  {
   "cell_type": "code",
   "execution_count": 20,
   "metadata": {},
   "outputs": [],
   "source": [
    "x = torch.linspace(0, 10, steps=500)\n",
    "w = torch.tensor(3.141592)\n",
    "b = torch.tensor(1.3)\n",
    "true_y =  w * x**2 + 2 * w * x + b"
   ]
  },
  {
   "cell_type": "markdown",
   "metadata": {},
   "source": [
    "`torch.relu`\n",
    "![](https://cdn-images-1.medium.com/max/1600/1*oePAhrm74RNnNEolprmTaQ.png)"
   ]
  },
  {
   "cell_type": "code",
   "execution_count": 21,
   "metadata": {},
   "outputs": [],
   "source": [
    "class MLP(nn.Module):\n",
    "    def __init__(self):\n",
    "        super(MLP, self).__init__()\n",
    "        self.fc1 = nn.Linear(1, 20)\n",
    "        self.fc2 = nn.Linear(20, 1)\n",
    "    \n",
    "    def forward(self, x):\n",
    "        x = self.fc1(x)\n",
    "        x = torch.relu(x)\n",
    "        return self.fc2(x)"
   ]
  },
  {
   "cell_type": "code",
   "execution_count": 22,
   "metadata": {},
   "outputs": [],
   "source": [
    "model = MLP()\n",
    "pred_y = model(x.view(-1, 1))"
   ]
  },
  {
   "cell_type": "code",
   "execution_count": 23,
   "metadata": {},
   "outputs": [
    {
     "data": {
      "text/plain": [
       "<matplotlib.legend.Legend at 0x2b058747688>"
      ]
     },
     "execution_count": 23,
     "metadata": {},
     "output_type": "execute_result"
    },
    {
     "data": {
      "image/png": "[encoded data removed]",
      "text/plain": [
       "<Figure size 432x288 with 1 Axes>"
      ]
     },
     "metadata": {
      "needs_background": "light"
     },
     "output_type": "display_data"
    }
   ],
   "source": [
    "plt.plot(x.numpy(), true_y.numpy(), label='true')\n",
    "plt.plot(x.numpy(), pred_y.view(-1).data.numpy(), label='pred')\n",
    "plt.xlabel('x'); plt.ylabel('y')\n",
    "plt.legend()"
   ]
  },
  {
   "cell_type": "code",
   "execution_count": 28,
   "metadata": {},
   "outputs": [
    {
     "name": "stdout",
     "output_type": "stream",
     "text": [
      "loss 464.8717956542969\n",
      "loss 427.9051818847656\n",
      "loss 393.36578369140625\n",
      "loss 365.2134704589844\n",
      "loss 335.4691467285156\n",
      "loss 311.7949523925781\n",
      "loss 288.5293884277344\n",
      "loss 269.0141906738281\n",
      "loss 249.2456512451172\n",
      "loss 234.47134399414062\n",
      "loss 220.2377166748047\n",
      "loss 203.18890380859375\n",
      "loss 193.49169921875\n",
      "loss 181.89378356933594\n",
      "loss 174.87725830078125\n",
      "loss 162.86587524414062\n",
      "loss 154.93434143066406\n",
      "loss 144.1044464111328\n",
      "loss 135.05149841308594\n",
      "loss 129.4473876953125\n"
     ]
    }
   ],
   "source": [
    "params = model.parameters()\n",
    "optimizer = optim.SGD(params, lr=0.0005)\n",
    "criterion = nn.MSELoss()\n",
    "losses = []\n",
    "\n",
    "for i in range(10000):\n",
    "    pred_y = model(x.view(-1, 1))    \n",
    "    loss = criterion(pred_y, true_y.view(-1, 1))\n",
    "    loss.backward()\n",
    "    optimizer.step()\n",
    "    model.zero_grad()\n",
    "    \n",
    "    if i % 500 == 0:\n",
    "        losses.append(loss.item())\n",
    "        print('loss', loss.item())"
   ]
  },
  {
   "cell_type": "code",
   "execution_count": 29,
   "metadata": {},
   "outputs": [
    {
     "data": {
      "text/plain": [
       "[<matplotlib.lines.Line2D at 0x2b059a06a88>]"
      ]
     },
     "execution_count": 29,
     "metadata": {},
     "output_type": "execute_result"
    },
    {
     "data": {
      "image/png": "[encoded data removed]",
      "text/plain": [
       "<Figure size 432x288 with 1 Axes>"
      ]
     },
     "metadata": {
      "needs_background": "light"
     },
     "output_type": "display_data"
    }
   ],
   "source": [
    "plt.title('Loss over training steps')\n",
    "plt.ylabel('loss')\n",
    "plt.xlabel('steps (500 iter)')\n",
    "plt.plot(losses)"
   ]
  },
  {
   "cell_type": "code",
   "execution_count": 30,
   "metadata": {},
   "outputs": [
    {
     "data": {
      "text/plain": [
       "<matplotlib.legend.Legend at 0x2b0599dbf48>"
      ]
     },
     "execution_count": 30,
     "metadata": {},
     "output_type": "execute_result"
    },
    {
     "data": {
      "image/png": "[encoded data removed]",
      "text/plain": [
       "<Figure size 432x288 with 1 Axes>"
      ]
     },
     "metadata": {
      "needs_background": "light"
     },
     "output_type": "display_data"
    }
   ],
   "source": [
    "pred_y = model(x.view(-1, 1))\n",
    "plt.plot(x.numpy(), true_y.numpy(), label='true')\n",
    "plt.plot(x.numpy(), pred_y.view(-1).data.numpy(), label='pred')\n",
    "plt.xlabel('x'); plt.ylabel('y')\n",
    "plt.legend()"
   ]
  },
  {
   "cell_type": "code",
   "execution_count": null,
   "metadata": {},
   "outputs": [],
   "source": []
  }
 ],
 "metadata": {
  "kernelspec": {
   "display_name": "Python 3",
   "language": "python",
   "name": "python3"
  },
  "language_info": {
   "codemirror_mode": {
    "name": "ipython",
    "version": 3
   },
   "file_extension": ".py",
   "mimetype": "text/x-python",
   "name": "python",
   "nbconvert_exporter": "python",
   "pygments_lexer": "ipython3",
   "version": "3.7.10"
  },
  "toc": {
   "colors": {
    "hover_highlight": "#DAA520",
    "navigate_num": "#000000",
    "navigate_text": "#333333",
    "running_highlight": "#FF0000",
    "selected_highlight": "#FFD700",
    "sidebar_border": "#EEEEEE",
    "wrapper_background": "#FFFFFF"
   },
   "moveMenuLeft": false,
   "navigate_menu": false,
   "number_sections": false,
   "sideBar": false,
   "threshold": 4,
   "toc_cell": false,
   "toc_position": {
    "height": "259px",
    "left": "465px",
    "right": "20px",
    "top": "5px",
    "width": "460px"
   },
   "toc_section_display": "none",
   "toc_window_display": true,
   "widenNotebook": false
  },
  "varInspector": {
   "cols": {
    "lenName": 16,
    "lenType": 16,
    "lenVar": "200"
   },
   "kernels_config": {
    "python": {
     "delete_cmd_postfix": "",
     "delete_cmd_prefix": "del ",
     "library": "var_list.py",
     "varRefreshCmd": "print(var_dic_list())"
    },
    "r": {
     "delete_cmd_postfix": ") ",
     "delete_cmd_prefix": "rm(",
     "library": "var_list.r",
     "varRefreshCmd": "cat(var_dic_list()) "
    }
   },
   "types_to_exclude": [
    "module",
    "function",
    "builtin_function_or_method",
    "instance",
    "_Feature"
   ],
   "window_display": false
  }
 },
 "nbformat": 4,
 "nbformat_minor": 2
}

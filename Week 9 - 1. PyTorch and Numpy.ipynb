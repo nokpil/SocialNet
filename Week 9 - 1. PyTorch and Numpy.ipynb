{
 "cells": [
  {
   "cell_type": "markdown",
   "metadata": {},
   "source": [
    "# PyTorch Tutorial\n",
    "\n",
    "KAIST, October 2018\n",
    "\n",
    "By Dongkyum Kim\n",
    "\n",
    "Ref. Sandeep Subramanian, MILA, November 2017\n",
    "\n",
    "## Introduction to the torch tensor library\n",
    "### Torch's numpy equivalent with GPU support"
   ]
  },
  {
   "cell_type": "code",
   "execution_count": 2,
   "metadata": {},
   "outputs": [],
   "source": [
    "from __future__ import print_function\n",
    "import numpy as np\n",
    "import torch"
   ]
  },
  {
   "cell_type": "markdown",
   "metadata": {},
   "source": [
    "### Initialize a random tensor with shape\n",
    "\n",
    "A tensor filled with random numbers from a normal distribution\n",
    "with mean `0` and variance `1`"
   ]
  },
  {
   "cell_type": "code",
   "execution_count": 3,
   "metadata": {},
   "outputs": [
    {
     "data": {
      "text/plain": [
       "tensor([[ 0.1680,  0.1251,  0.5554,  0.3480],\n",
       "        [-0.7482,  0.5483,  1.3612,  1.2223],\n",
       "        [ 0.1833, -1.2773, -1.6825,  0.5582],\n",
       "        [ 0.2090,  0.8240, -1.9599,  1.5998]])"
      ]
     },
     "execution_count": 3,
     "metadata": {},
     "output_type": "execute_result"
    }
   ],
   "source": [
    "torch.randn(4, 4)"
   ]
  },
  {
   "cell_type": "code",
   "execution_count": 4,
   "metadata": {},
   "outputs": [
    {
     "data": {
      "text/plain": [
       "array([[ 0.7133378 , -1.53162935, -1.05142611, -0.28741783],\n",
       "       [-0.0371589 ,  0.00374062, -0.00822873,  1.65399837],\n",
       "       [-0.60751848, -0.39953287, -0.92695193,  1.41517738],\n",
       "       [ 0.65135586, -0.31883655,  0.19100358,  2.06445106]])"
      ]
     },
     "execution_count": 4,
     "metadata": {},
     "output_type": "execute_result"
    }
   ],
   "source": [
    "np.random.randn(4, 4)"
   ]
  },
  {
   "cell_type": "markdown",
   "metadata": {},
   "source": [
    "### Initialize a tensor with list / numpy object"
   ]
  },
  {
   "cell_type": "code",
   "execution_count": 5,
   "metadata": {},
   "outputs": [
    {
     "data": {
      "text/plain": [
       "tensor([0, 1, 2, 3, 4, 5, 6, 7, 8, 9])"
      ]
     },
     "execution_count": 5,
     "metadata": {},
     "output_type": "execute_result"
    }
   ],
   "source": [
    "torch.tensor(range(10))"
   ]
  },
  {
   "cell_type": "code",
   "execution_count": 6,
   "metadata": {},
   "outputs": [
    {
     "data": {
      "text/plain": [
       "tensor([1, 2, 3, 4, 5, 6, 7, 8, 9], dtype=torch.int32)"
      ]
     },
     "execution_count": 6,
     "metadata": {},
     "output_type": "execute_result"
    }
   ],
   "source": [
    "torch.tensor(np.arange(1,10))"
   ]
  },
  {
   "cell_type": "markdown",
   "metadata": {},
   "source": [
    "### Shape of tensor\n",
    "\n",
    "![](https://www.oreilly.com/library/view/elegant-scipy/9781491922927/assets/elsp_0105.png)"
   ]
  },
  {
   "cell_type": "code",
   "execution_count": 7,
   "metadata": {},
   "outputs": [
    {
     "name": "stdout",
     "output_type": "stream",
     "text": [
      "tensor([ 1.3068,  1.1371, -0.7975, -0.0732])\n",
      "torch.Size([4])\n"
     ]
    }
   ],
   "source": [
    "x = torch.randn(4)\n",
    "print(x)\n",
    "print(x.shape)"
   ]
  },
  {
   "cell_type": "code",
   "execution_count": 8,
   "metadata": {},
   "outputs": [
    {
     "name": "stdout",
     "output_type": "stream",
     "text": [
      "tensor([[ 1.0219, -1.4718, -1.3264],\n",
      "        [ 0.2943, -1.0765,  0.5840]])\n",
      "torch.Size([2, 3])\n"
     ]
    }
   ],
   "source": [
    "x = torch.randn(2, 3)\n",
    "print(x)\n",
    "print(x.shape)"
   ]
  },
  {
   "cell_type": "code",
   "execution_count": 9,
   "metadata": {},
   "outputs": [
    {
     "name": "stdout",
     "output_type": "stream",
     "text": [
      "tensor([[[-0.4419,  0.2811],\n",
      "         [ 0.9264,  0.7388],\n",
      "         [-0.1364, -1.4341]],\n",
      "\n",
      "        [[-0.8020,  1.0708],\n",
      "         [-1.5296, -0.7760],\n",
      "         [ 0.9968,  0.5660]],\n",
      "\n",
      "        [[-0.6585,  0.5405],\n",
      "         [-0.6415,  0.6770],\n",
      "         [ 0.8458, -0.3436]],\n",
      "\n",
      "        [[ 0.2163,  0.0183],\n",
      "         [ 1.0402,  1.7349],\n",
      "         [-1.9247, -0.7873]]])\n",
      "torch.Size([4, 3, 2])\n"
     ]
    }
   ],
   "source": [
    "x = torch.randn(4, 3, 2)\n",
    "print(x)\n",
    "print(x.shape)"
   ]
  },
  {
   "cell_type": "markdown",
   "metadata": {},
   "source": [
    "### Frequently used methods defined in a tensor\n",
    "\n",
    "- `mean` : mean\n",
    "- `std` : standard deviation\n",
    "- `sqrt` : square root"
   ]
  },
  {
   "cell_type": "code",
   "execution_count": 10,
   "metadata": {},
   "outputs": [
    {
     "name": "stdout",
     "output_type": "stream",
     "text": [
      "tensor([1., 2., 3., 4., 5., 6., 7., 8., 9.])\n",
      "mean of x : tensor(5.)\n",
      "standard deviation of x : tensor(2.7386)\n",
      "square root of x : tensor([1.0000, 1.4142, 1.7321, 2.0000, 2.2361, 2.4495, 2.6458, 2.8284, 3.0000])\n"
     ]
    }
   ],
   "source": [
    "x = torch.arange(1, 10).float()\n",
    "print(x)\n",
    "print('mean of x :', x.mean())\n",
    "print('standard deviation of x :', x.std())\n",
    "print('square root of x :', x.sqrt())"
   ]
  },
  {
   "cell_type": "code",
   "execution_count": 11,
   "metadata": {},
   "outputs": [
    {
     "name": "stdout",
     "output_type": "stream",
     "text": [
      "[1 2 3 4 5 6 7 8 9]\n",
      "mean of x : 5.0\n",
      "standard deviation of x : 2.581988897471611\n",
      "square root of x : [1.         1.41421356 1.73205081 2.         2.23606798 2.44948974\n",
      " 2.64575131 2.82842712 3.        ]\n"
     ]
    }
   ],
   "source": [
    "x = np.arange(1, 10)\n",
    "print(x)\n",
    "print('mean of x :', x.mean())\n",
    "print('standard deviation of x :', x.std())\n",
    "print('square root of x :', np.sqrt(x))"
   ]
  },
  {
   "cell_type": "markdown",
   "metadata": {},
   "source": [
    "### Compute mean along to axis"
   ]
  },
  {
   "cell_type": "code",
   "execution_count": 13,
   "metadata": {},
   "outputs": [
    {
     "name": "stdout",
     "output_type": "stream",
     "text": [
      "[ 1.24659574 -0.72536545 -0.1295955 ]\n",
      "[ 0.46815917 -0.20706931]\n"
     ]
    }
   ],
   "source": [
    "x = np.random.randn(2, 3)\n",
    "\n",
    "print(x.mean(axis=0))\n",
    "print(x.mean(axis=1))"
   ]
  },
  {
   "cell_type": "code",
   "execution_count": 14,
   "metadata": {},
   "outputs": [
    {
     "name": "stdout",
     "output_type": "stream",
     "text": [
      "tensor([ 1.2466, -0.7254, -0.1296], dtype=torch.float64)\n",
      "tensor([ 0.4682, -0.2071], dtype=torch.float64)\n"
     ]
    }
   ],
   "source": [
    "x = torch.tensor(x)\n",
    "\n",
    "print(x.mean(dim=0))\n",
    "print(x.mean(dim=1))"
   ]
  },
  {
   "cell_type": "markdown",
   "metadata": {},
   "source": [
    "### Tensor Types\n",
    "source: http://pytorch.org/docs/master/tensors.html"
   ]
  },
  {
   "cell_type": "markdown",
   "metadata": {},
   "source": [
    "Data type | dtype | CPU tensor | GPU tensor\n",
    "----------|-------|------------|-----------\n",
    "32-bit floating point | torch.float32 or torch.float | torch.FloatTensor | torch.cuda.FloatTensor\n",
    "64-bit floating point | torch.float64 or torch.double | torch.DoubleTensor | torch.cuda.DoubleTensor\n",
    "16-bit floating point | torch.float16 or torch.half | torch.HalfTensor | torch.cuda.HalfTensor\n",
    "8-bit integer (unsigned) | torch.uint8 | torch.ByteTensor | torch.cuda.ByteTensor\n",
    "8-bit integer (signed) | torch.int8 | torch.CharTensor | torch.cuda.CharTensor\n",
    "16-bit integer (signed) | torch.int16 or torch.short | torch.ShortTensor | torch.cuda.ShortTensor\n",
    "32-bit integer (signed) | torch.int32 or torch.int | torch.IntTensor | torch.cuda.IntTensor\n",
    "64-bit integer (signed) | torch.int64 or torch.long | torch.LongTensor | torch.cuda.LongTensor"
   ]
  },
  {
   "cell_type": "markdown",
   "metadata": {},
   "source": [
    "### Creation from lists & numpy"
   ]
  },
  {
   "cell_type": "code",
   "execution_count": 15,
   "metadata": {},
   "outputs": [
    {
     "name": "stdout",
     "output_type": "stream",
     "text": [
      "torch.LongTensor\n",
      "[[1 3]\n",
      " [2 9]]\n",
      "int64\n"
     ]
    }
   ],
   "source": [
    "z = torch.tensor([[1, 3], [2, 9]]).long()\n",
    "print(z.type())\n",
    "# Cast to numpy ndarray\n",
    "z = z.numpy()\n",
    "print(z)\n",
    "print(z.dtype)"
   ]
  },
  {
   "cell_type": "code",
   "execution_count": 16,
   "metadata": {},
   "outputs": [
    {
     "name": "stdout",
     "output_type": "stream",
     "text": [
      "torch.DoubleTensor\n",
      "torch.FloatTensor\n"
     ]
    }
   ],
   "source": [
    "# Data type inferred from numpy\n",
    "print(torch.tensor(np.random.rand(5, 3)).type())\n",
    "print(torch.tensor(np.random.rand(5, 3).astype(np.float32)).type())"
   ]
  },
  {
   "cell_type": "markdown",
   "metadata": {},
   "source": [
    "### Broadcasting\n",
    "\n",
    "Basic operations on torch tensor or numpy array (addition, etc.) are done element by element, thus work on tensors of the same shape. Nevertheless, it’s possible to do operations on tensors of different shapes if torch can transform these tensors so that they all have the same shapes: this conversion is called **broadcasting**.\n",
    "\n",
    "The image below gives an example of broadcasting:\n",
    "\n",
    "![](http://www.scipy-lectures.org/_images/numpy_broadcasting.png)"
   ]
  },
  {
   "cell_type": "code",
   "execution_count": 17,
   "metadata": {},
   "outputs": [
    {
     "name": "stdout",
     "output_type": "stream",
     "text": [
      "tensor([[ 0],\n",
      "        [10],\n",
      "        [20],\n",
      "        [30]])\n",
      "tensor([0, 1, 2])\n",
      "tensor([[ 0,  1,  2],\n",
      "        [10, 11, 12],\n",
      "        [20, 21, 22],\n",
      "        [30, 31, 32]])\n"
     ]
    }
   ],
   "source": [
    "a = torch.arange(0, 40, 10)\n",
    "b = torch.arange(0, 3)\n",
    "a = a.view(4,1) # a must be changed into a vertical array\n",
    "print(a)\n",
    "print(b)\n",
    "print(a + b)"
   ]
  },
  {
   "cell_type": "code",
   "execution_count": 18,
   "metadata": {},
   "outputs": [
    {
     "name": "stdout",
     "output_type": "stream",
     "text": [
      "[[ 0]\n",
      " [10]\n",
      " [20]\n",
      " [30]]\n",
      "[0 1 2]\n",
      "[[ 0  1  2]\n",
      " [10 11 12]\n",
      " [20 21 22]\n",
      " [30 31 32]]\n"
     ]
    }
   ],
   "source": [
    "a = np.arange(0, 40, 10)\n",
    "b = np.arange(0, 3)\n",
    "a = a.reshape((4,1)) \n",
    "print(a)\n",
    "print(b)\n",
    "print(a + b)"
   ]
  },
  {
   "cell_type": "markdown",
   "metadata": {},
   "source": [
    "Adding scalar to tensor is also broadcasting!"
   ]
  },
  {
   "cell_type": "code",
   "execution_count": 19,
   "metadata": {},
   "outputs": [
    {
     "name": "stdout",
     "output_type": "stream",
     "text": [
      "tensor([[0., 0., 0., 0.],\n",
      "        [0., 0., 0., 0.],\n",
      "        [0., 0., 0., 0.],\n",
      "        [0., 0., 0., 0.]])\n",
      "tensor([[5., 5., 5., 5.],\n",
      "        [5., 5., 5., 5.],\n",
      "        [5., 5., 5., 5.],\n",
      "        [5., 5., 5., 5.]])\n"
     ]
    }
   ],
   "source": [
    "p = torch.zeros(4, 4)\n",
    "print(p)\n",
    "print(p + 5)"
   ]
  },
  {
   "cell_type": "markdown",
   "metadata": {},
   "source": [
    "### Reshape"
   ]
  },
  {
   "cell_type": "code",
   "execution_count": 20,
   "metadata": {},
   "outputs": [
    {
     "name": "stdout",
     "output_type": "stream",
     "text": [
      "tensor([ 0,  1,  2,  3,  4,  5,  6,  7,  8,  9, 10, 11, 12, 13, 14, 15, 16, 17,\n",
      "        18, 19, 20, 21, 22, 23, 24, 25, 26, 27, 28, 29, 30, 31, 32, 33, 34, 35,\n",
      "        36, 37, 38, 39, 40, 41, 42, 43, 44, 45, 46, 47, 48, 49, 50, 51, 52, 53,\n",
      "        54, 55, 56, 57, 58, 59, 60, 61, 62, 63, 64, 65, 66, 67, 68, 69, 70, 71,\n",
      "        72, 73, 74, 75, 76, 77, 78, 79, 80, 81, 82, 83, 84, 85, 86, 87, 88, 89,\n",
      "        90, 91, 92, 93, 94, 95, 96, 97, 98, 99])\n",
      "torch.Size([100])\n",
      "tensor([[ 0,  1,  2,  3,  4,  5,  6,  7,  8,  9],\n",
      "        [10, 11, 12, 13, 14, 15, 16, 17, 18, 19],\n",
      "        [20, 21, 22, 23, 24, 25, 26, 27, 28, 29],\n",
      "        [30, 31, 32, 33, 34, 35, 36, 37, 38, 39],\n",
      "        [40, 41, 42, 43, 44, 45, 46, 47, 48, 49],\n",
      "        [50, 51, 52, 53, 54, 55, 56, 57, 58, 59],\n",
      "        [60, 61, 62, 63, 64, 65, 66, 67, 68, 69],\n",
      "        [70, 71, 72, 73, 74, 75, 76, 77, 78, 79],\n",
      "        [80, 81, 82, 83, 84, 85, 86, 87, 88, 89],\n",
      "        [90, 91, 92, 93, 94, 95, 96, 97, 98, 99]])\n",
      "tensor([[ 0,  1,  2,  3],\n",
      "        [ 4,  5,  6,  7],\n",
      "        [ 8,  9, 10, 11],\n",
      "        [12, 13, 14, 15],\n",
      "        [16, 17, 18, 19],\n",
      "        [20, 21, 22, 23],\n",
      "        [24, 25, 26, 27],\n",
      "        [28, 29, 30, 31],\n",
      "        [32, 33, 34, 35],\n",
      "        [36, 37, 38, 39],\n",
      "        [40, 41, 42, 43],\n",
      "        [44, 45, 46, 47],\n",
      "        [48, 49, 50, 51],\n",
      "        [52, 53, 54, 55],\n",
      "        [56, 57, 58, 59],\n",
      "        [60, 61, 62, 63],\n",
      "        [64, 65, 66, 67],\n",
      "        [68, 69, 70, 71],\n",
      "        [72, 73, 74, 75],\n",
      "        [76, 77, 78, 79],\n",
      "        [80, 81, 82, 83],\n",
      "        [84, 85, 86, 87],\n",
      "        [88, 89, 90, 91],\n",
      "        [92, 93, 94, 95],\n",
      "        [96, 97, 98, 99]])\n"
     ]
    }
   ],
   "source": [
    "y = torch.arange(0, 100)\n",
    "print(y)\n",
    "print(y.shape)\n",
    "print(y.view(10, 10))\n",
    "print(y.view(25, -1))"
   ]
  },
  {
   "cell_type": "markdown",
   "metadata": {},
   "source": [
    "### Concatenate & Stack"
   ]
  },
  {
   "cell_type": "code",
   "execution_count": 21,
   "metadata": {},
   "outputs": [
    {
     "name": "stdout",
     "output_type": "stream",
     "text": [
      "torch.Size([5, 10])\n",
      "torch.Size([2, 5, 5])\n"
     ]
    }
   ],
   "source": [
    "# 1 is the dimension over which the tensors are concatenated\n",
    "y = torch.randn(5, 5)\n",
    "print(torch.cat([y, y], 1).size())\n",
    "# stack concatenates the sequence of tensors along a new dimension.\n",
    "print(torch.stack([y, y], 0).size())"
   ]
  },
  {
   "cell_type": "markdown",
   "metadata": {},
   "source": [
    "### Basic Slicing and Indexing\n",
    "\n",
    "[numpy indexing](https://docs.scipy.org/doc/numpy-1.13.0/reference/arrays.indexing.html)\n",
    "\n",
    "![](https://www.oreilly.com/library/view/python-for-data/9781449323592/httpatomoreillycomsourceoreillyimages1346882.png)"
   ]
  },
  {
   "cell_type": "markdown",
   "metadata": {},
   "source": [
    "## Advanced Data Handling\n",
    "\n",
    "### Advanced Slicing and Indexing\n",
    "\n",
    "![](http://www.scipy-lectures.org/_images/numpy_indexing.png)\n",
    "\n",
    "### Fancy Indexing\n",
    "![](http://www.scipy-lectures.org/_images/numpy_fancy_indexing.png)"
   ]
  }
 ],
 "metadata": {
  "kernelspec": {
   "display_name": "Python 3",
   "language": "python",
   "name": "python3"
  },
  "language_info": {
   "codemirror_mode": {
    "name": "ipython",
    "version": 3
   },
   "file_extension": ".py",
   "mimetype": "text/x-python",
   "name": "python",
   "nbconvert_exporter": "python",
   "pygments_lexer": "ipython3",
   "version": "3.7.10"
  },
  "toc": {
   "colors": {
    "hover_highlight": "#DAA520",
    "navigate_num": "#000000",
    "navigate_text": "#333333",
    "running_highlight": "#FF0000",
    "selected_highlight": "#FFD700",
    "sidebar_border": "#EEEEEE",
    "wrapper_background": "#FFFFFF"
   },
   "moveMenuLeft": false,
   "navigate_menu": false,
   "number_sections": false,
   "sideBar": false,
   "threshold": 4,
   "toc_cell": false,
   "toc_position": {
    "height": "372px",
    "left": "760.016px",
    "right": "20px",
    "top": "100px",
    "width": "297.969px"
   },
   "toc_section_display": "none",
   "toc_window_display": true,
   "widenNotebook": false
  },
  "varInspector": {
   "cols": {
    "lenName": 16,
    "lenType": 16,
    "lenVar": "200"
   },
   "kernels_config": {
    "python": {
     "delete_cmd_postfix": "",
     "delete_cmd_prefix": "del ",
     "library": "var_list.py",
     "varRefreshCmd": "print(var_dic_list())"
    },
    "r": {
     "delete_cmd_postfix": ") ",
     "delete_cmd_prefix": "rm(",
     "library": "var_list.r",
     "varRefreshCmd": "cat(var_dic_list()) "
    }
   },
   "types_to_exclude": [
    "module",
    "function",
    "builtin_function_or_method",
    "instance",
    "_Feature"
   ],
   "window_display": false
  }
 },
 "nbformat": 4,
 "nbformat_minor": 2
}

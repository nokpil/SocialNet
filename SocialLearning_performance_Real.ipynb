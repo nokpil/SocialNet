{
 "cells": [
  {
   "cell_type": "code",
   "execution_count": null,
   "id": "5ad368c6",
   "metadata": {},
   "outputs": [],
   "source": [
    "import numpy as np\n",
    "import networkx as nx\n",
    "\n",
    "#%matplotlib notebook\n",
    "import matplotlib.pyplot as plt\n",
    "from matplotlib import cm\n",
    "from mpl_toolkits.axes_grid1 import make_axes_locatable\n",
    "%config InlineBackend.figure_format = 'retina'\n",
    "\n",
    "import torch\n",
    "import torchvision\n",
    "import torch.nn as nn\n",
    "import torch.optim as optim\n",
    "from torch.optim.lr_scheduler import StepLR\n",
    "import torch.nn.functional as F\n",
    "from torch.autograd import Variable\n",
    "from torch.utils.data.dataset import Dataset\n",
    "from torch.utils.data.dataset import TensorDataset\n",
    "from torch.utils.data import DataLoader # (testset, batch_size=4,shuffle=False, num_workers=4)\n",
    "\n",
    "import sys\n",
    "from datetime import datetime\n",
    "from functools import reduce\n",
    "import os\n",
    "import os.path\n",
    "import pandas as pd\n",
    "import pickle\n",
    "import importlib\n",
    "from collections import Counter\n",
    "from copy import deepcopy\n",
    "from collections import OrderedDict\n",
    "\n",
    "import nkmodel as nk\n",
    "import ppo.core as core\n",
    "from ppo.ppo import PPOBuffer\n",
    "from utils.utils import max_mean_clustering_network\n",
    "import envs\n",
    "import json\n",
    "from itertools import product\n",
    "from functools import reduce  "
   ]
  },
  {
   "cell_type": "code",
   "execution_count": null,
   "id": "e52c4864",
   "metadata": {},
   "outputs": [],
   "source": [
    "with open('./result/OLP_updated.pickle', 'rb') as f:\n",
    "    real_network = pickle.load(f)\n",
    "\n",
    "candidate = {}\n",
    "max_node_threshold = 1200\n",
    "\n",
    "for network_index in (real_network.network_index):\n",
    "    graph = nx.Graph()\n",
    "    graph.add_edges_from([tuple(x) for x in real_network[real_network['network_index']==network_index]['edges_id'].values[0]]) # add weights to the edges\n",
    "    graph2 = nx.k_core(graph, k=3)\n",
    "    if graph2.number_of_nodes() > 0:\n",
    "        if nx.is_connected(graph2) and graph2.number_of_nodes()/graph.number_of_nodes() > 0.95:\n",
    "            candidate[network_index] = graph2.number_of_nodes()\n",
    "        \n",
    "network_data = real_network[np.isin(real_network['network_index'], list(candidate.keys()))]\n",
    "network_filter = np.logical_and(network_data['networkDomain'] == 'Social', network_data['number_nodes'].values < max_node_threshold )\n",
    "network_data = network_data[network_filter]\n",
    "network_index = network_data.network_index.values\n",
    "network_nodes = [candidate[i] for i in network_index]"
   ]
  },
  {
   "cell_type": "code",
   "execution_count": null,
   "id": "c715e679",
   "metadata": {},
   "outputs": [],
   "source": [
    "with open('OLP_selected.pickle', 'wb') as f:\n",
    "    pickle.dump(real_network, f)"
   ]
  },
  {
   "cell_type": "code",
   "execution_count": null,
   "id": "ac606084",
   "metadata": {},
   "outputs": [],
   "source": [
    "network_index = network_data.network_index.values"
   ]
  },
  {
   "cell_type": "code",
   "execution_count": null,
   "id": "492dbe24",
   "metadata": {},
   "outputs": [],
   "source": [
    "E = 32\n",
    "M = 100\n",
    "N = 15\n",
    "K = 7\n",
    "NN = 3\n",
    "exp = 8\n",
    "trj_len = 200\n",
    "graph_type = 'complete'\n",
    "reward_type = 'indv_raw_full'\n",
    "action_type = 'total'\n",
    "extra_type = 'SI'\n",
    "env_name = 'SL_NK_' + action_type"
   ]
  },
  {
   "cell_type": "code",
   "execution_count": null,
   "id": "f921dff5",
   "metadata": {},
   "outputs": [],
   "source": [
    "baseline_data_dict = {}\n",
    "baseline_data_dict['keys'] = ['Ret', 'FinalScore']"
   ]
  },
  {
   "cell_type": "code",
   "execution_count": null,
   "id": "1c7ee0df",
   "metadata": {},
   "outputs": [],
   "source": [
    "index = "
   ]
  },
  {
   "cell_type": "code",
   "execution_count": null,
   "id": "e8e8e415",
   "metadata": {
    "scrolled": true
   },
   "outputs": [],
   "source": [
    "#baselines = ['FollowBest', 'FollowBest_indv', 'FollowMajor', 'FollowMajor_indv', 'IndvLearning', 'RandomCopy']\n",
    "baselines = ['FollowBest', 'FollowBest_indv', 'FollowBest_random', 'FollowBest_prob',\n",
    "             'FollowMajor', 'FollowMajor_indv', 'FollowMajor_random', 'FollowMajor_prob',\n",
    "            'IndvLearning', 'IndvRandom', 'IndvProb', 'RandomCopy']\n",
    "\n",
    "\n",
    "\n",
    "env_num = 10\n",
    "test_ensemble_num = 20\n",
    "env_list = [envs.__dict__[env_name](**env_kwargs) for i in range(env_num)]\n",
    "state_list = []\n",
    "for i in range(env_num):\n",
    "    print(i)\n",
    "    _, fixed_state = env_list[i].reset(E=test_ensemble_num, base=True)\n",
    "    state_list.append(deepcopy(fixed_state))\n",
    "print(\"Baseline construction initiated\")\n",
    "\n",
    "env_kwargs = {\n",
    "        'E': E,\n",
    "        'M': M,\n",
    "        'N': N,\n",
    "        'K': K,\n",
    "        'neighbor_num': NN,\n",
    "        'exp': exp,\n",
    "        'graph': nx.from_edgelist,\n",
    "        'graph_dict': {'edgelist':network_data[network_data['network_index']==index]['edges_id'].values[0]},\n",
    "        'reward_type': reward_type,\n",
    "        'action_type': action_type,\n",
    "        'extra_type': extra_type,\n",
    "    'corr_type': 'TT'\n",
    "    }\n",
    "\n",
    "for baseline_name in baselines:\n",
    "    if baseline_name not in baseline_data_dict.keys():\n",
    "        print(f\"Baseline : {baseline_name}\")\n",
    "        baseline_data = {}\n",
    "        baseline_data['Ret'] = []\n",
    "        baseline_data['FinalScore'] = []\n",
    "        baseline_data['scr_buf'] = []\n",
    "        baseline_data['unq_buf'] = []\n",
    "\n",
    "        for i in range(env_num):\n",
    "            print(i)\n",
    "            env_base = env_list[i]\n",
    "            ac_base = core.__dict__[baseline_name](env_base, action_type, extra_type, corr_type='TT')\n",
    "            scr_buf = np.zeros((test_ensemble_num, M, trj_len), dtype=np.float32)\n",
    "            unq_buf = np.zeros((test_ensemble_num, trj_len), dtype=np.float32)\n",
    "\n",
    "            o, _ = env_base.reset(states=state_list[i], state_only=True, base=True)\n",
    "            ep_ret, ep_len = 0, 0\n",
    "            for t in range(trj_len):\n",
    "                a = ac_base.step(o)\n",
    "                next_o, r, s = env_base.step(a)\n",
    "                ep_ret += r\n",
    "                ep_len += 1\n",
    "                scr_buf[..., t] = s\n",
    "                for e in range(test_ensemble_num):\n",
    "                    freq = np.unique(a[e], axis=0)\n",
    "                    unq_buf[e][t] = freq.shape[0]\n",
    "                o = next_o\n",
    "\n",
    "            baseline_data['Ret'].append(np.mean(ep_ret / ep_len))\n",
    "            baseline_data['FinalScore'].append(np.mean(s))\n",
    "            baseline_data['scr_buf'].append(scr_buf)\n",
    "            baseline_data['unq_buf'].append(unq_buf)\n",
    "        baseline_data['Ret'] = np.mean(baseline_data['Ret'])\n",
    "        baseline_data['FinalScore'] = np.mean(baseline_data['FinalScore'])\n",
    "        baseline_data['scr_buf'] = np.array(baseline_data['scr_buf'])\n",
    "        baseline_data['unq_buf'] = np.array(baseline_data['unq_buf'])\n",
    "        baseline_data_dict[baseline_name] = baseline_data\n",
    "        print(\"Baseline finished\")\n",
    "        print(f\"{baseline_name}, {baseline_data_dict[baseline_name]['Ret']}, {baseline_data_dict[baseline_name]['FinalScore']}\")\n",
    "with open(f'baseline_{graph_type}_N{N}K{K}NN{NN}_exp{exp}_add.pkl', 'wb') as f:\n",
    "    pickle.dump(baseline_data_dict, f, pickle.HIGHEST_PROTOCOL)"
   ]
  },
  {
   "cell_type": "code",
   "execution_count": null,
   "id": "cacfd0cd",
   "metadata": {},
   "outputs": [],
   "source": [
    "for baseline_name in baselines:\n",
    "    if baseline_name is not 'keys':\n",
    "        print(f\"{baseline_name}, {baseline_data_dict[baseline_name]['Ret']}, {baseline_data_dict[baseline_name]['FinalScore']}\")"
   ]
  },
  {
   "cell_type": "code",
   "execution_count": null,
   "id": "cf677be1",
   "metadata": {},
   "outputs": [],
   "source": [
    "baseline_data_dict"
   ]
  },
  {
   "cell_type": "code",
   "execution_count": null,
   "id": "4c33f755",
   "metadata": {},
   "outputs": [],
   "source": [
    "# Figure drawing\n",
    "fig = plt.figure(figsize=(4,4), dpi=200)\n",
    "ax = fig.add_subplot(111)\n",
    "color_list = ['limegreen', 'darkgreen','deepskyblue', 'royalblue', 'purple', 'gold']\n",
    "label_dict = {'FollowBest':'BI', 'FollowBest_indv':'BI-I', 'FollowBest_random':'BI-R', 'FollowMajor':'CF', 'FollowMajor_indv':'CF-I', 'FollowMajor_random':'CF-R'}\n",
    "counter=0\n",
    "if baselines:\n",
    "    for baseline_name in baselines:\n",
    "        x = baseline_data_dict[baseline_name]['scr_buf']\n",
    "        avg_pf = np.mean(x, axis=tuple(range(0, len(x.shape) - 1)))\n",
    "        std_pf = np.std(x, axis=tuple(range(0, len(x.shape) - 1)))\n",
    "        ax.plot(np.arange(x.shape[-1]), avg_pf, c=color_list[counter], ls=(0, (3, 2)), label=label_dict[baseline_name])\n",
    "        #ax.fill_between(np.arange(x.shape[-1]), avg_pf-std_pf, avg_pf+std_pf, facecolor=color_list[counter], alpha=0.2)\n",
    "        counter+=1\n",
    "\n",
    "#ax.fill_between(np.arange(x.shape[-1]), avg_pf-std_pf, avg_pf+std_pf, facecolor=color_list[counter], alpha=0.2)\n",
    "ax.set_xlabel('Time')\n",
    "ax.set_ylabel('Average Payoff')\n",
    "ax.legend(fontsize=8, loc=4)\n",
    "#fig_name = 'st_complete_indv_raw_full_total_random_SI_TT_N15K7NN3_disc_g99_I100_L200_RST_TMT'\n",
    "#plt.savefig(f'./result/figure/{fig_name}.png')"
   ]
  },
  {
   "cell_type": "code",
   "execution_count": null,
   "id": "8ba33d48",
   "metadata": {},
   "outputs": [],
   "source": []
  },
  {
   "cell_type": "code",
   "execution_count": null,
   "id": "0eba57f0",
   "metadata": {},
   "outputs": [],
   "source": [
    "with open('./result/real_network_65.pkl', 'rb') as f:\n",
    "    data = pickle.load(f)\n",
    "for key in data.keys():\n",
    "    if key != 'keys':\n",
    "        print(key)\n",
    "        for key2 in data['keys']:\n",
    "            print(data[key][key2])"
   ]
  }
 ],
 "metadata": {
  "kernelspec": {
   "display_name": "Python 3",
   "language": "python",
   "name": "python3"
  },
  "language_info": {
   "codemirror_mode": {
    "name": "ipython",
    "version": 3
   },
   "file_extension": ".py",
   "mimetype": "text/x-python",
   "name": "python",
   "nbconvert_exporter": "python",
   "pygments_lexer": "ipython3",
   "version": "3.7.10"
  }
 },
 "nbformat": 4,
 "nbformat_minor": 5
}
